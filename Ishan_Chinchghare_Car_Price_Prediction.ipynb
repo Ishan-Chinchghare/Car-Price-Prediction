{
  "nbformat": 4,
  "nbformat_minor": 0,
  "metadata": {
    "colab": {
      "name": "Ishan_Chinchghare_Car_Price_Prediction.ipynb",
      "provenance": []
    },
    "kernelspec": {
      "name": "python3",
      "display_name": "Python 3"
    }
  },
  "cells": [
    {
      "cell_type": "markdown",
      "metadata": {
        "id": "QSghHhtIzjV5"
      },
      "source": [
        "Importing the Dependencies"
      ]
    },
    {
      "cell_type": "code",
      "metadata": {
        "id": "pNrkfaZWtJJ7"
      },
      "source": [
        "import pandas as pd\n",
        "import matplotlib.pyplot as plt\n",
        "import seaborn as sns\n",
        "from sklearn.model_selection import train_test_split\n",
        "from sklearn.linear_model import LinearRegression\n",
        "from sklearn.linear_model import Lasso\n",
        "from sklearn import metrics\n",
        "import catboost"
      ],
      "execution_count": null,
      "outputs": []
    },
    {
      "cell_type": "code",
      "source": [
        "from google.colab import drive\n",
        "drive.mount('/content/drive')"
      ],
      "metadata": {
        "colab": {
          "base_uri": "https://localhost:8080/"
        },
        "id": "a2z8O1YnSnN4",
        "outputId": "6d86f985-32b2-4063-802a-32a16919baea"
      },
      "execution_count": null,
      "outputs": [
        {
          "output_type": "stream",
          "name": "stdout",
          "text": [
            "Drive already mounted at /content/drive; to attempt to forcibly remount, call drive.mount(\"/content/drive\", force_remount=True).\n"
          ]
        }
      ]
    },
    {
      "cell_type": "markdown",
      "metadata": {
        "id": "VrDd3I050OqH"
      },
      "source": [
        "Data Collection and Processing"
      ]
    },
    {
      "cell_type": "code",
      "metadata": {
        "id": "k0lBJoM90JHf"
      },
      "source": [
        "car_dataset = pd.read_csv('/content/drive/MyDrive/Datasets/datasets/car data.csv')"
      ],
      "execution_count": null,
      "outputs": []
    },
    {
      "cell_type": "code",
      "metadata": {
        "colab": {
          "base_uri": "https://localhost:8080/",
          "height": 206
        },
        "id": "9YKIoB-i0kIi",
        "outputId": "9b9851c9-4100-49e7-f66b-430c0af3aad7"
      },
      "source": [
        "car_dataset.head()"
      ],
      "execution_count": null,
      "outputs": [
        {
          "output_type": "execute_result",
          "data": {
            "text/plain": [
              "  Car_Name  Year  Selling_Price  Present_Price  Kms_Driven Fuel_Type  \\\n",
              "0     ritz  2014           3.35           5.59       27000    Petrol   \n",
              "1      sx4  2013           4.75           9.54       43000    Diesel   \n",
              "2     ciaz  2017           7.25           9.85        6900    Petrol   \n",
              "3  wagon r  2011           2.85           4.15        5200    Petrol   \n",
              "4    swift  2014           4.60           6.87       42450    Diesel   \n",
              "\n",
              "  Seller_Type Transmission  Owner  \n",
              "0      Dealer       Manual      0  \n",
              "1      Dealer       Manual      0  \n",
              "2      Dealer       Manual      0  \n",
              "3      Dealer       Manual      0  \n",
              "4      Dealer       Manual      0  "
            ],
            "text/html": [
              "\n",
              "  <div id=\"df-dc747edf-bfe1-456f-b597-34c8cdb514ce\">\n",
              "    <div class=\"colab-df-container\">\n",
              "      <div>\n",
              "<style scoped>\n",
              "    .dataframe tbody tr th:only-of-type {\n",
              "        vertical-align: middle;\n",
              "    }\n",
              "\n",
              "    .dataframe tbody tr th {\n",
              "        vertical-align: top;\n",
              "    }\n",
              "\n",
              "    .dataframe thead th {\n",
              "        text-align: right;\n",
              "    }\n",
              "</style>\n",
              "<table border=\"1\" class=\"dataframe\">\n",
              "  <thead>\n",
              "    <tr style=\"text-align: right;\">\n",
              "      <th></th>\n",
              "      <th>Car_Name</th>\n",
              "      <th>Year</th>\n",
              "      <th>Selling_Price</th>\n",
              "      <th>Present_Price</th>\n",
              "      <th>Kms_Driven</th>\n",
              "      <th>Fuel_Type</th>\n",
              "      <th>Seller_Type</th>\n",
              "      <th>Transmission</th>\n",
              "      <th>Owner</th>\n",
              "    </tr>\n",
              "  </thead>\n",
              "  <tbody>\n",
              "    <tr>\n",
              "      <th>0</th>\n",
              "      <td>ritz</td>\n",
              "      <td>2014</td>\n",
              "      <td>3.35</td>\n",
              "      <td>5.59</td>\n",
              "      <td>27000</td>\n",
              "      <td>Petrol</td>\n",
              "      <td>Dealer</td>\n",
              "      <td>Manual</td>\n",
              "      <td>0</td>\n",
              "    </tr>\n",
              "    <tr>\n",
              "      <th>1</th>\n",
              "      <td>sx4</td>\n",
              "      <td>2013</td>\n",
              "      <td>4.75</td>\n",
              "      <td>9.54</td>\n",
              "      <td>43000</td>\n",
              "      <td>Diesel</td>\n",
              "      <td>Dealer</td>\n",
              "      <td>Manual</td>\n",
              "      <td>0</td>\n",
              "    </tr>\n",
              "    <tr>\n",
              "      <th>2</th>\n",
              "      <td>ciaz</td>\n",
              "      <td>2017</td>\n",
              "      <td>7.25</td>\n",
              "      <td>9.85</td>\n",
              "      <td>6900</td>\n",
              "      <td>Petrol</td>\n",
              "      <td>Dealer</td>\n",
              "      <td>Manual</td>\n",
              "      <td>0</td>\n",
              "    </tr>\n",
              "    <tr>\n",
              "      <th>3</th>\n",
              "      <td>wagon r</td>\n",
              "      <td>2011</td>\n",
              "      <td>2.85</td>\n",
              "      <td>4.15</td>\n",
              "      <td>5200</td>\n",
              "      <td>Petrol</td>\n",
              "      <td>Dealer</td>\n",
              "      <td>Manual</td>\n",
              "      <td>0</td>\n",
              "    </tr>\n",
              "    <tr>\n",
              "      <th>4</th>\n",
              "      <td>swift</td>\n",
              "      <td>2014</td>\n",
              "      <td>4.60</td>\n",
              "      <td>6.87</td>\n",
              "      <td>42450</td>\n",
              "      <td>Diesel</td>\n",
              "      <td>Dealer</td>\n",
              "      <td>Manual</td>\n",
              "      <td>0</td>\n",
              "    </tr>\n",
              "  </tbody>\n",
              "</table>\n",
              "</div>\n",
              "      <button class=\"colab-df-convert\" onclick=\"convertToInteractive('df-dc747edf-bfe1-456f-b597-34c8cdb514ce')\"\n",
              "              title=\"Convert this dataframe to an interactive table.\"\n",
              "              style=\"display:none;\">\n",
              "        \n",
              "  <svg xmlns=\"http://www.w3.org/2000/svg\" height=\"24px\"viewBox=\"0 0 24 24\"\n",
              "       width=\"24px\">\n",
              "    <path d=\"M0 0h24v24H0V0z\" fill=\"none\"/>\n",
              "    <path d=\"M18.56 5.44l.94 2.06.94-2.06 2.06-.94-2.06-.94-.94-2.06-.94 2.06-2.06.94zm-11 1L8.5 8.5l.94-2.06 2.06-.94-2.06-.94L8.5 2.5l-.94 2.06-2.06.94zm10 10l.94 2.06.94-2.06 2.06-.94-2.06-.94-.94-2.06-.94 2.06-2.06.94z\"/><path d=\"M17.41 7.96l-1.37-1.37c-.4-.4-.92-.59-1.43-.59-.52 0-1.04.2-1.43.59L10.3 9.45l-7.72 7.72c-.78.78-.78 2.05 0 2.83L4 21.41c.39.39.9.59 1.41.59.51 0 1.02-.2 1.41-.59l7.78-7.78 2.81-2.81c.8-.78.8-2.07 0-2.86zM5.41 20L4 18.59l7.72-7.72 1.47 1.35L5.41 20z\"/>\n",
              "  </svg>\n",
              "      </button>\n",
              "      \n",
              "  <style>\n",
              "    .colab-df-container {\n",
              "      display:flex;\n",
              "      flex-wrap:wrap;\n",
              "      gap: 12px;\n",
              "    }\n",
              "\n",
              "    .colab-df-convert {\n",
              "      background-color: #E8F0FE;\n",
              "      border: none;\n",
              "      border-radius: 50%;\n",
              "      cursor: pointer;\n",
              "      display: none;\n",
              "      fill: #1967D2;\n",
              "      height: 32px;\n",
              "      padding: 0 0 0 0;\n",
              "      width: 32px;\n",
              "    }\n",
              "\n",
              "    .colab-df-convert:hover {\n",
              "      background-color: #E2EBFA;\n",
              "      box-shadow: 0px 1px 2px rgba(60, 64, 67, 0.3), 0px 1px 3px 1px rgba(60, 64, 67, 0.15);\n",
              "      fill: #174EA6;\n",
              "    }\n",
              "\n",
              "    [theme=dark] .colab-df-convert {\n",
              "      background-color: #3B4455;\n",
              "      fill: #D2E3FC;\n",
              "    }\n",
              "\n",
              "    [theme=dark] .colab-df-convert:hover {\n",
              "      background-color: #434B5C;\n",
              "      box-shadow: 0px 1px 3px 1px rgba(0, 0, 0, 0.15);\n",
              "      filter: drop-shadow(0px 1px 2px rgba(0, 0, 0, 0.3));\n",
              "      fill: #FFFFFF;\n",
              "    }\n",
              "  </style>\n",
              "\n",
              "      <script>\n",
              "        const buttonEl =\n",
              "          document.querySelector('#df-dc747edf-bfe1-456f-b597-34c8cdb514ce button.colab-df-convert');\n",
              "        buttonEl.style.display =\n",
              "          google.colab.kernel.accessAllowed ? 'block' : 'none';\n",
              "\n",
              "        async function convertToInteractive(key) {\n",
              "          const element = document.querySelector('#df-dc747edf-bfe1-456f-b597-34c8cdb514ce');\n",
              "          const dataTable =\n",
              "            await google.colab.kernel.invokeFunction('convertToInteractive',\n",
              "                                                     [key], {});\n",
              "          if (!dataTable) return;\n",
              "\n",
              "          const docLinkHtml = 'Like what you see? Visit the ' +\n",
              "            '<a target=\"_blank\" href=https://colab.research.google.com/notebooks/data_table.ipynb>data table notebook</a>'\n",
              "            + ' to learn more about interactive tables.';\n",
              "          element.innerHTML = '';\n",
              "          dataTable['output_type'] = 'display_data';\n",
              "          await google.colab.output.renderOutput(dataTable, element);\n",
              "          const docLink = document.createElement('div');\n",
              "          docLink.innerHTML = docLinkHtml;\n",
              "          element.appendChild(docLink);\n",
              "        }\n",
              "      </script>\n",
              "    </div>\n",
              "  </div>\n",
              "  "
            ]
          },
          "metadata": {},
          "execution_count": 124
        }
      ]
    },
    {
      "cell_type": "code",
      "metadata": {
        "colab": {
          "base_uri": "https://localhost:8080/"
        },
        "id": "rpNJj7TN0s0F",
        "outputId": "501992ad-22a9-489b-a8c6-2d1bfdcc7288"
      },
      "source": [
        "car_dataset.shape"
      ],
      "execution_count": null,
      "outputs": [
        {
          "output_type": "execute_result",
          "data": {
            "text/plain": [
              "(301, 9)"
            ]
          },
          "metadata": {},
          "execution_count": 125
        }
      ]
    },
    {
      "cell_type": "code",
      "metadata": {
        "colab": {
          "base_uri": "https://localhost:8080/"
        },
        "id": "uxeZ9Px708Ek",
        "outputId": "f6d365d8-e739-4c94-b62f-f881166f76d1"
      },
      "source": [
        "car_dataset.info()"
      ],
      "execution_count": null,
      "outputs": [
        {
          "output_type": "stream",
          "name": "stdout",
          "text": [
            "<class 'pandas.core.frame.DataFrame'>\n",
            "RangeIndex: 301 entries, 0 to 300\n",
            "Data columns (total 9 columns):\n",
            " #   Column         Non-Null Count  Dtype  \n",
            "---  ------         --------------  -----  \n",
            " 0   Car_Name       301 non-null    object \n",
            " 1   Year           301 non-null    int64  \n",
            " 2   Selling_Price  301 non-null    float64\n",
            " 3   Present_Price  301 non-null    float64\n",
            " 4   Kms_Driven     301 non-null    int64  \n",
            " 5   Fuel_Type      301 non-null    object \n",
            " 6   Seller_Type    301 non-null    object \n",
            " 7   Transmission   301 non-null    object \n",
            " 8   Owner          301 non-null    int64  \n",
            "dtypes: float64(2), int64(3), object(4)\n",
            "memory usage: 21.3+ KB\n"
          ]
        }
      ]
    },
    {
      "cell_type": "code",
      "metadata": {
        "colab": {
          "base_uri": "https://localhost:8080/"
        },
        "id": "wZSbDnmM1O_V",
        "outputId": "f52bacb0-9da0-4e0f-d3fa-0a5a2c3fd910"
      },
      "source": [
        "car_dataset.isnull().sum()"
      ],
      "execution_count": null,
      "outputs": [
        {
          "output_type": "execute_result",
          "data": {
            "text/plain": [
              "Car_Name         0\n",
              "Year             0\n",
              "Selling_Price    0\n",
              "Present_Price    0\n",
              "Kms_Driven       0\n",
              "Fuel_Type        0\n",
              "Seller_Type      0\n",
              "Transmission     0\n",
              "Owner            0\n",
              "dtype: int64"
            ]
          },
          "metadata": {},
          "execution_count": 127
        }
      ]
    },
    {
      "cell_type": "code",
      "metadata": {
        "colab": {
          "base_uri": "https://localhost:8080/"
        },
        "id": "jKeM03IO1kSz",
        "outputId": "7e8a1010-7e95-4bb4-9b95-1bc8fb6f7471"
      },
      "source": [
        "print(car_dataset.Fuel_Type.value_counts())\n",
        "print(car_dataset.Seller_Type.value_counts())\n",
        "print(car_dataset.Transmission.value_counts())"
      ],
      "execution_count": null,
      "outputs": [
        {
          "output_type": "stream",
          "name": "stdout",
          "text": [
            "Petrol    239\n",
            "Diesel     60\n",
            "CNG         2\n",
            "Name: Fuel_Type, dtype: int64\n",
            "Dealer        195\n",
            "Individual    106\n",
            "Name: Seller_Type, dtype: int64\n",
            "Manual       261\n",
            "Automatic     40\n",
            "Name: Transmission, dtype: int64\n"
          ]
        }
      ]
    },
    {
      "cell_type": "markdown",
      "metadata": {
        "id": "VxzeLJqT2k1t"
      },
      "source": [
        "Encoding the Categorical Data"
      ]
    },
    {
      "cell_type": "code",
      "metadata": {
        "id": "fNbLsAdU2LAA"
      },
      "source": [
        "\n",
        "car_dataset.replace({'Fuel_Type':{'Petrol':0,'Diesel':1,'CNG':2}},inplace=True)\n",
        "\n",
        "\n",
        "car_dataset.replace({'Seller_Type':{'Dealer':0,'Individual':1}},inplace=True)\n",
        "\n",
        "\n",
        "car_dataset.replace({'Transmission':{'Manual':0,'Automatic':1}},inplace=True)"
      ],
      "execution_count": null,
      "outputs": []
    },
    {
      "cell_type": "code",
      "metadata": {
        "colab": {
          "base_uri": "https://localhost:8080/",
          "height": 206
        },
        "id": "dR-puwbW3UZc",
        "outputId": "3101d2bd-7ed7-44ba-d771-6500791aa541"
      },
      "source": [
        "car_dataset.head()"
      ],
      "execution_count": null,
      "outputs": [
        {
          "output_type": "execute_result",
          "data": {
            "text/plain": [
              "  Car_Name  Year  Selling_Price  Present_Price  Kms_Driven  Fuel_Type  \\\n",
              "0     ritz  2014           3.35           5.59       27000          0   \n",
              "1      sx4  2013           4.75           9.54       43000          1   \n",
              "2     ciaz  2017           7.25           9.85        6900          0   \n",
              "3  wagon r  2011           2.85           4.15        5200          0   \n",
              "4    swift  2014           4.60           6.87       42450          1   \n",
              "\n",
              "   Seller_Type  Transmission  Owner  \n",
              "0            0             0      0  \n",
              "1            0             0      0  \n",
              "2            0             0      0  \n",
              "3            0             0      0  \n",
              "4            0             0      0  "
            ],
            "text/html": [
              "\n",
              "  <div id=\"df-5ca0538e-bd0d-40ee-aa0c-6fa19ca1d976\">\n",
              "    <div class=\"colab-df-container\">\n",
              "      <div>\n",
              "<style scoped>\n",
              "    .dataframe tbody tr th:only-of-type {\n",
              "        vertical-align: middle;\n",
              "    }\n",
              "\n",
              "    .dataframe tbody tr th {\n",
              "        vertical-align: top;\n",
              "    }\n",
              "\n",
              "    .dataframe thead th {\n",
              "        text-align: right;\n",
              "    }\n",
              "</style>\n",
              "<table border=\"1\" class=\"dataframe\">\n",
              "  <thead>\n",
              "    <tr style=\"text-align: right;\">\n",
              "      <th></th>\n",
              "      <th>Car_Name</th>\n",
              "      <th>Year</th>\n",
              "      <th>Selling_Price</th>\n",
              "      <th>Present_Price</th>\n",
              "      <th>Kms_Driven</th>\n",
              "      <th>Fuel_Type</th>\n",
              "      <th>Seller_Type</th>\n",
              "      <th>Transmission</th>\n",
              "      <th>Owner</th>\n",
              "    </tr>\n",
              "  </thead>\n",
              "  <tbody>\n",
              "    <tr>\n",
              "      <th>0</th>\n",
              "      <td>ritz</td>\n",
              "      <td>2014</td>\n",
              "      <td>3.35</td>\n",
              "      <td>5.59</td>\n",
              "      <td>27000</td>\n",
              "      <td>0</td>\n",
              "      <td>0</td>\n",
              "      <td>0</td>\n",
              "      <td>0</td>\n",
              "    </tr>\n",
              "    <tr>\n",
              "      <th>1</th>\n",
              "      <td>sx4</td>\n",
              "      <td>2013</td>\n",
              "      <td>4.75</td>\n",
              "      <td>9.54</td>\n",
              "      <td>43000</td>\n",
              "      <td>1</td>\n",
              "      <td>0</td>\n",
              "      <td>0</td>\n",
              "      <td>0</td>\n",
              "    </tr>\n",
              "    <tr>\n",
              "      <th>2</th>\n",
              "      <td>ciaz</td>\n",
              "      <td>2017</td>\n",
              "      <td>7.25</td>\n",
              "      <td>9.85</td>\n",
              "      <td>6900</td>\n",
              "      <td>0</td>\n",
              "      <td>0</td>\n",
              "      <td>0</td>\n",
              "      <td>0</td>\n",
              "    </tr>\n",
              "    <tr>\n",
              "      <th>3</th>\n",
              "      <td>wagon r</td>\n",
              "      <td>2011</td>\n",
              "      <td>2.85</td>\n",
              "      <td>4.15</td>\n",
              "      <td>5200</td>\n",
              "      <td>0</td>\n",
              "      <td>0</td>\n",
              "      <td>0</td>\n",
              "      <td>0</td>\n",
              "    </tr>\n",
              "    <tr>\n",
              "      <th>4</th>\n",
              "      <td>swift</td>\n",
              "      <td>2014</td>\n",
              "      <td>4.60</td>\n",
              "      <td>6.87</td>\n",
              "      <td>42450</td>\n",
              "      <td>1</td>\n",
              "      <td>0</td>\n",
              "      <td>0</td>\n",
              "      <td>0</td>\n",
              "    </tr>\n",
              "  </tbody>\n",
              "</table>\n",
              "</div>\n",
              "      <button class=\"colab-df-convert\" onclick=\"convertToInteractive('df-5ca0538e-bd0d-40ee-aa0c-6fa19ca1d976')\"\n",
              "              title=\"Convert this dataframe to an interactive table.\"\n",
              "              style=\"display:none;\">\n",
              "        \n",
              "  <svg xmlns=\"http://www.w3.org/2000/svg\" height=\"24px\"viewBox=\"0 0 24 24\"\n",
              "       width=\"24px\">\n",
              "    <path d=\"M0 0h24v24H0V0z\" fill=\"none\"/>\n",
              "    <path d=\"M18.56 5.44l.94 2.06.94-2.06 2.06-.94-2.06-.94-.94-2.06-.94 2.06-2.06.94zm-11 1L8.5 8.5l.94-2.06 2.06-.94-2.06-.94L8.5 2.5l-.94 2.06-2.06.94zm10 10l.94 2.06.94-2.06 2.06-.94-2.06-.94-.94-2.06-.94 2.06-2.06.94z\"/><path d=\"M17.41 7.96l-1.37-1.37c-.4-.4-.92-.59-1.43-.59-.52 0-1.04.2-1.43.59L10.3 9.45l-7.72 7.72c-.78.78-.78 2.05 0 2.83L4 21.41c.39.39.9.59 1.41.59.51 0 1.02-.2 1.41-.59l7.78-7.78 2.81-2.81c.8-.78.8-2.07 0-2.86zM5.41 20L4 18.59l7.72-7.72 1.47 1.35L5.41 20z\"/>\n",
              "  </svg>\n",
              "      </button>\n",
              "      \n",
              "  <style>\n",
              "    .colab-df-container {\n",
              "      display:flex;\n",
              "      flex-wrap:wrap;\n",
              "      gap: 12px;\n",
              "    }\n",
              "\n",
              "    .colab-df-convert {\n",
              "      background-color: #E8F0FE;\n",
              "      border: none;\n",
              "      border-radius: 50%;\n",
              "      cursor: pointer;\n",
              "      display: none;\n",
              "      fill: #1967D2;\n",
              "      height: 32px;\n",
              "      padding: 0 0 0 0;\n",
              "      width: 32px;\n",
              "    }\n",
              "\n",
              "    .colab-df-convert:hover {\n",
              "      background-color: #E2EBFA;\n",
              "      box-shadow: 0px 1px 2px rgba(60, 64, 67, 0.3), 0px 1px 3px 1px rgba(60, 64, 67, 0.15);\n",
              "      fill: #174EA6;\n",
              "    }\n",
              "\n",
              "    [theme=dark] .colab-df-convert {\n",
              "      background-color: #3B4455;\n",
              "      fill: #D2E3FC;\n",
              "    }\n",
              "\n",
              "    [theme=dark] .colab-df-convert:hover {\n",
              "      background-color: #434B5C;\n",
              "      box-shadow: 0px 1px 3px 1px rgba(0, 0, 0, 0.15);\n",
              "      filter: drop-shadow(0px 1px 2px rgba(0, 0, 0, 0.3));\n",
              "      fill: #FFFFFF;\n",
              "    }\n",
              "  </style>\n",
              "\n",
              "      <script>\n",
              "        const buttonEl =\n",
              "          document.querySelector('#df-5ca0538e-bd0d-40ee-aa0c-6fa19ca1d976 button.colab-df-convert');\n",
              "        buttonEl.style.display =\n",
              "          google.colab.kernel.accessAllowed ? 'block' : 'none';\n",
              "\n",
              "        async function convertToInteractive(key) {\n",
              "          const element = document.querySelector('#df-5ca0538e-bd0d-40ee-aa0c-6fa19ca1d976');\n",
              "          const dataTable =\n",
              "            await google.colab.kernel.invokeFunction('convertToInteractive',\n",
              "                                                     [key], {});\n",
              "          if (!dataTable) return;\n",
              "\n",
              "          const docLinkHtml = 'Like what you see? Visit the ' +\n",
              "            '<a target=\"_blank\" href=https://colab.research.google.com/notebooks/data_table.ipynb>data table notebook</a>'\n",
              "            + ' to learn more about interactive tables.';\n",
              "          element.innerHTML = '';\n",
              "          dataTable['output_type'] = 'display_data';\n",
              "          await google.colab.output.renderOutput(dataTable, element);\n",
              "          const docLink = document.createElement('div');\n",
              "          docLink.innerHTML = docLinkHtml;\n",
              "          element.appendChild(docLink);\n",
              "        }\n",
              "      </script>\n",
              "    </div>\n",
              "  </div>\n",
              "  "
            ]
          },
          "metadata": {},
          "execution_count": 130
        }
      ]
    },
    {
      "cell_type": "markdown",
      "metadata": {
        "id": "d2AVNy1h3kni"
      },
      "source": [
        "Splitting the data and Target"
      ]
    },
    {
      "cell_type": "code",
      "metadata": {
        "id": "XHdzrIlV3baN"
      },
      "source": [
        "X = car_dataset.drop(['Car_Name','Selling_Price'],axis=1)\n",
        "Y = car_dataset['Selling_Price']"
      ],
      "execution_count": null,
      "outputs": []
    },
    {
      "cell_type": "code",
      "metadata": {
        "colab": {
          "base_uri": "https://localhost:8080/"
        },
        "id": "vJKZIXOI4ISG",
        "outputId": "3b55f0dd-8221-4590-9323-ebcb49f5e39d"
      },
      "source": [
        "print(X)"
      ],
      "execution_count": null,
      "outputs": [
        {
          "output_type": "stream",
          "name": "stdout",
          "text": [
            "     Year  Present_Price  Kms_Driven  Fuel_Type  Seller_Type  Transmission  \\\n",
            "0    2014           5.59       27000          0            0             0   \n",
            "1    2013           9.54       43000          1            0             0   \n",
            "2    2017           9.85        6900          0            0             0   \n",
            "3    2011           4.15        5200          0            0             0   \n",
            "4    2014           6.87       42450          1            0             0   \n",
            "..    ...            ...         ...        ...          ...           ...   \n",
            "296  2016          11.60       33988          1            0             0   \n",
            "297  2015           5.90       60000          0            0             0   \n",
            "298  2009          11.00       87934          0            0             0   \n",
            "299  2017          12.50        9000          1            0             0   \n",
            "300  2016           5.90        5464          0            0             0   \n",
            "\n",
            "     Owner  \n",
            "0        0  \n",
            "1        0  \n",
            "2        0  \n",
            "3        0  \n",
            "4        0  \n",
            "..     ...  \n",
            "296      0  \n",
            "297      0  \n",
            "298      0  \n",
            "299      0  \n",
            "300      0  \n",
            "\n",
            "[301 rows x 7 columns]\n"
          ]
        }
      ]
    },
    {
      "cell_type": "code",
      "metadata": {
        "colab": {
          "base_uri": "https://localhost:8080/"
        },
        "id": "U5LIqrS54N9W",
        "outputId": "ff971f2f-e278-48f0-ad5c-4b8de10aa2d7"
      },
      "source": [
        "print(Y)"
      ],
      "execution_count": null,
      "outputs": [
        {
          "output_type": "stream",
          "name": "stdout",
          "text": [
            "0       3.35\n",
            "1       4.75\n",
            "2       7.25\n",
            "3       2.85\n",
            "4       4.60\n",
            "       ...  \n",
            "296     9.50\n",
            "297     4.00\n",
            "298     3.35\n",
            "299    11.50\n",
            "300     5.30\n",
            "Name: Selling_Price, Length: 301, dtype: float64\n"
          ]
        }
      ]
    },
    {
      "cell_type": "markdown",
      "metadata": {
        "id": "w62e_VA84ZIS"
      },
      "source": [
        "Splitting Training and Test data"
      ]
    },
    {
      "cell_type": "code",
      "metadata": {
        "id": "p2cYl_Nw4SQ3"
      },
      "source": [
        "X_train, X_test, Y_train, Y_test = train_test_split(X, Y, test_size = 0.1, random_state=2)"
      ],
      "execution_count": null,
      "outputs": []
    },
    {
      "cell_type": "markdown",
      "metadata": {
        "id": "ocyzVLOc5K6D"
      },
      "source": [
        "Model Training"
      ]
    },
    {
      "cell_type": "markdown",
      "metadata": {
        "id": "CTzEpu6F5M5A"
      },
      "source": [
        "1. Linear Regression"
      ]
    },
    {
      "cell_type": "code",
      "metadata": {
        "id": "iLqTMiKd5IWH"
      },
      "source": [
        "lin_reg_model = LinearRegression()"
      ],
      "execution_count": null,
      "outputs": []
    },
    {
      "cell_type": "code",
      "metadata": {
        "colab": {
          "base_uri": "https://localhost:8080/"
        },
        "id": "UWUCK59R5Z4X",
        "outputId": "c9b44b10-8b06-4e46-ef76-fe44aea3913a"
      },
      "source": [
        "lin_reg_model.fit(X_train,Y_train)"
      ],
      "execution_count": null,
      "outputs": [
        {
          "output_type": "execute_result",
          "data": {
            "text/plain": [
              "LinearRegression()"
            ]
          },
          "metadata": {},
          "execution_count": 136
        }
      ]
    },
    {
      "cell_type": "markdown",
      "metadata": {
        "id": "XB7PuuTM5nu_"
      },
      "source": [
        "Model Evaluation"
      ]
    },
    {
      "cell_type": "code",
      "metadata": {
        "id": "u8Wu4xMD5iW8"
      },
      "source": [
        "training_data_prediction = lin_reg_model.predict(X_train)"
      ],
      "execution_count": null,
      "outputs": []
    },
    {
      "cell_type": "code",
      "metadata": {
        "colab": {
          "base_uri": "https://localhost:8080/"
        },
        "id": "JdHP3HWx528E",
        "outputId": "12af9761-003f-4fe1-9efc-50c32dddb783"
      },
      "source": [
        "error_score = metrics.r2_score(Y_train, training_data_prediction)\n",
        "mean_error = mean_absolute_error(Y_train, training_data_prediction)\n",
        "print(\"R squared Error : \", error_score)\n",
        "print(\"mean absolute error :\", mean_error)"
      ],
      "execution_count": null,
      "outputs": [
        {
          "output_type": "stream",
          "name": "stdout",
          "text": [
            "R squared Error :  0.8799451660493711\n",
            "mean absolute error : 1.2166174093911273\n"
          ]
        }
      ]
    },
    {
      "cell_type": "markdown",
      "metadata": {
        "id": "b3RfnkFq6jrH"
      },
      "source": [
        "Visualize the actual prices and Predicted prices"
      ]
    },
    {
      "cell_type": "code",
      "metadata": {
        "colab": {
          "base_uri": "https://localhost:8080/",
          "height": 295
        },
        "id": "5jukF7Vc6P48",
        "outputId": "36dbeebf-5fbd-41ad-d0d3-adc699e24a00"
      },
      "source": [
        "plt.scatter(Y_train, training_data_prediction)\n",
        "plt.xlabel(\"Actual Price\")\n",
        "plt.ylabel(\"Predicted Price\")\n",
        "plt.title(\" Actual Prices vs Predicted Prices\")\n",
        "plt.show()"
      ],
      "execution_count": null,
      "outputs": [
        {
          "output_type": "display_data",
          "data": {
            "text/plain": [
              "<Figure size 432x288 with 1 Axes>"
            ],
            "image/png": "[encoded data removed]"
          },
          "metadata": {
            "needs_background": "light"
          }
        }
      ]
    },
    {
      "cell_type": "code",
      "metadata": {
        "id": "iJUq-DiM69fn"
      },
      "source": [
        "test_data_prediction = lin_reg_model.predict(X_test)"
      ],
      "execution_count": null,
      "outputs": []
    },
    {
      "cell_type": "code",
      "metadata": {
        "colab": {
          "base_uri": "https://localhost:8080/"
        },
        "id": "e9h4glEM7XJ1",
        "outputId": "9feb3288-7f2b-4b4a-f1fd-4e35997f491b"
      },
      "source": [
        "error_score = metrics.r2_score(Y_test, test_data_prediction)\n",
        "print(\"R squared Error : \", error_score)"
      ],
      "execution_count": null,
      "outputs": [
        {
          "output_type": "stream",
          "name": "stdout",
          "text": [
            "R squared Error :  0.8365766715027051\n"
          ]
        }
      ]
    },
    {
      "cell_type": "code",
      "metadata": {
        "colab": {
          "base_uri": "https://localhost:8080/",
          "height": 295
        },
        "id": "0yP0uxcr7gUE",
        "outputId": "c1ad28e7-ddc0-438b-aceb-3ca18e4c154d"
      },
      "source": [
        "plt.scatter(Y_test, test_data_prediction)\n",
        "plt.xlabel(\"Actual Price\")\n",
        "plt.ylabel(\"Predicted Price\")\n",
        "plt.title(\" Actual Prices vs Predicted Prices\")\n",
        "plt.show()"
      ],
      "execution_count": null,
      "outputs": [
        {
          "output_type": "display_data",
          "data": {
            "text/plain": [
              "<Figure size 432x288 with 1 Axes>"
            ],
            "image/png": "[encoded data removed]"
          },
          "metadata": {
            "needs_background": "light"
          }
        }
      ]
    },
    {
      "cell_type": "markdown",
      "metadata": {
        "id": "flNiLHUZ78Mb"
      },
      "source": [
        "2. Random Forest Regressor"
      ]
    },
    {
      "cell_type": "code",
      "metadata": {
        "id": "YUasAsqI8g49",
        "colab": {
          "base_uri": "https://localhost:8080/"
        },
        "outputId": "cef41060-8dd6-4489-d96b-8772aac5e27a"
      },
      "source": [
        "from sklearn.ensemble import RandomForestRegressor\n",
        "forest_regression = RandomForestRegressor(random_state=0)\n",
        "forest_regression.fit(X_train,Y_train)"
      ],
      "execution_count": null,
      "outputs": [
        {
          "output_type": "execute_result",
          "data": {
            "text/plain": [
              "RandomForestRegressor(random_state=0)"
            ]
          },
          "metadata": {},
          "execution_count": 143
        }
      ]
    },
    {
      "cell_type": "code",
      "source": [
        "training_data_prediction2 = forest_regression.predict(X_train)"
      ],
      "metadata": {
        "id": "nXRwintvZCcu"
      },
      "execution_count": null,
      "outputs": []
    },
    {
      "cell_type": "code",
      "source": [
        "error_score = metrics.r2_score(Y_train, training_data_prediction2)\n",
        "mean_error = mean_absolute_error(Y_train, training_data_prediction2)\n",
        "print(\"R squared Error : \", error_score)\n",
        "print(\"mean absolute error :\", mean_error)"
      ],
      "metadata": {
        "colab": {
          "base_uri": "https://localhost:8080/"
        },
        "id": "oVsh-ShnZCfW",
        "outputId": "8ed10379-9e0b-45ba-b7a5-26267d6681f3"
      },
      "execution_count": null,
      "outputs": [
        {
          "output_type": "stream",
          "name": "stdout",
          "text": [
            "R squared Error :  0.9863907462881809\n",
            "mean absolute error : 0.24258444444444438\n"
          ]
        }
      ]
    },
    {
      "cell_type": "code",
      "source": [
        "plt.scatter(Y_train, training_data_prediction2)\n",
        "plt.xlabel(\"Actual Price\")\n",
        "plt.ylabel(\"Predicted Price\")\n",
        "plt.title(\" Actual Prices vs Predicted Prices\")\n",
        "plt.show()"
      ],
      "metadata": {
        "colab": {
          "base_uri": "https://localhost:8080/",
          "height": 295
        },
        "id": "JCU6RZG5ZCiH",
        "outputId": "9da44d7b-3e84-4a52-b7e9-c8faf7c93aaa"
      },
      "execution_count": null,
      "outputs": [
        {
          "output_type": "display_data",
          "data": {
            "text/plain": [
              "<Figure size 432x288 with 1 Axes>"
            ],
            "image/png": "[encoded data removed]"
          },
          "metadata": {
            "needs_background": "light"
          }
        }
      ]
    },
    {
      "cell_type": "code",
      "source": [
        "test_data_prediction2 = forest_regression.predict(X_test)"
      ],
      "metadata": {
        "id": "bjMq06hKZ3sq"
      },
      "execution_count": null,
      "outputs": []
    },
    {
      "cell_type": "code",
      "source": [
        "error_score = metrics.r2_score(Y_test, test_data_prediction2)\n",
        "print(\"R squared Error : \", error_score)"
      ],
      "metadata": {
        "colab": {
          "base_uri": "https://localhost:8080/"
        },
        "id": "be7SHfevbbqB",
        "outputId": "866dcc7b-f3ba-47d1-9442-d86a66b234f8"
      },
      "execution_count": null,
      "outputs": [
        {
          "output_type": "stream",
          "name": "stdout",
          "text": [
            "R squared Error :  0.982225343443489\n"
          ]
        }
      ]
    },
    {
      "cell_type": "code",
      "source": [
        "plt.scatter(Y_test, test_data_prediction2)\n",
        "plt.xlabel(\"Actual Price\")\n",
        "plt.ylabel(\"Predicted Price\")\n",
        "plt.title(\" Actual Prices vs Predicted Prices\")\n",
        "plt.show()"
      ],
      "metadata": {
        "colab": {
          "base_uri": "https://localhost:8080/",
          "height": 295
        },
        "id": "06DYW8EGZ379",
        "outputId": "53d3f983-fc27-4542-baf9-3972e5e76ffd"
      },
      "execution_count": null,
      "outputs": [
        {
          "output_type": "display_data",
          "data": {
            "text/plain": [
              "<Figure size 432x288 with 1 Axes>"
            ],
            "image/png": "[encoded data removed]"
          },
          "metadata": {
            "needs_background": "light"
          }
        }
      ]
    },
    {
      "cell_type": "markdown",
      "source": [
        "3.Extra tree Regession"
      ],
      "metadata": {
        "id": "AjQCwt-1aSpB"
      }
    },
    {
      "cell_type": "code",
      "source": [
        "from sklearn.ensemble import  ExtraTreesRegressor\n",
        "ET_Model=ExtraTreesRegressor(n_estimators = 120)\n",
        "ET_Model.fit(X_train,Y_train)"
      ],
      "metadata": {
        "colab": {
          "base_uri": "https://localhost:8080/"
        },
        "id": "61_1_sPPab16",
        "outputId": "328f9fc5-0261-4fbf-efc3-d9aa03b5fd3c"
      },
      "execution_count": null,
      "outputs": [
        {
          "output_type": "execute_result",
          "data": {
            "text/plain": [
              "ExtraTreesRegressor(n_estimators=120)"
            ]
          },
          "metadata": {},
          "execution_count": 150
        }
      ]
    },
    {
      "cell_type": "code",
      "source": [
        "training_data_prediction3=ET_Model.predict(X_train)"
      ],
      "metadata": {
        "id": "GUv1EINzagnn"
      },
      "execution_count": null,
      "outputs": []
    },
    {
      "cell_type": "code",
      "source": [
        "error_score = metrics.r2_score(Y_train, training_data_prediction3)\n",
        "mean_error = mean_absolute_error(Y_train, training_data_prediction3)\n",
        "print(\"R squared Error : \", error_score)\n",
        "print(\"mean absolute error :\", mean_error)"
      ],
      "metadata": {
        "colab": {
          "base_uri": "https://localhost:8080/"
        },
        "id": "vYFcHs9sagqZ",
        "outputId": "c8580303-46ae-413f-d69a-c3184733c8ec"
      },
      "execution_count": null,
      "outputs": [
        {
          "output_type": "stream",
          "name": "stdout",
          "text": [
            "R squared Error :  1.0\n",
            "mean absolute error : 3.2159974272116397e-15\n"
          ]
        }
      ]
    },
    {
      "cell_type": "code",
      "source": [
        "plt.scatter(Y_train, training_data_prediction3)\n",
        "plt.xlabel(\"Actual Price\")\n",
        "plt.ylabel(\"Predicted Price\")\n",
        "plt.title(\" Actual Prices vs Predicted Prices\")\n",
        "plt.show()"
      ],
      "metadata": {
        "colab": {
          "base_uri": "https://localhost:8080/",
          "height": 295
        },
        "id": "88w4w8tJagtc",
        "outputId": "630763c5-0e2f-4969-9b13-badc6c172dec"
      },
      "execution_count": null,
      "outputs": [
        {
          "output_type": "display_data",
          "data": {
            "text/plain": [
              "<Figure size 432x288 with 1 Axes>"
            ],
            "image/png": "[encoded data removed]"
          },
          "metadata": {
            "needs_background": "light"
          }
        }
      ]
    },
    {
      "cell_type": "code",
      "source": [
        "test_data_prediction3 = ET_Model.predict(X_test)"
      ],
      "metadata": {
        "id": "ZDb8E3ZlahMm"
      },
      "execution_count": null,
      "outputs": []
    },
    {
      "cell_type": "code",
      "source": [
        "error_score = metrics.r2_score(Y_test, test_data_prediction3)\n",
        "print(\"R squared Error : \", error_score)"
      ],
      "metadata": {
        "colab": {
          "base_uri": "https://localhost:8080/"
        },
        "id": "VtFkda64bg1a",
        "outputId": "64fdb341-be40-4f68-8832-1c1a9d938995"
      },
      "execution_count": null,
      "outputs": [
        {
          "output_type": "stream",
          "name": "stdout",
          "text": [
            "R squared Error :  0.9762533795635617\n"
          ]
        }
      ]
    },
    {
      "cell_type": "code",
      "source": [
        "plt.scatter(Y_test, test_data_prediction3)\n",
        "plt.xlabel(\"Actual Price\")\n",
        "plt.ylabel(\"Predicted Price\")\n",
        "plt.title(\" Actual Prices vs Predicted Prices\")\n",
        "plt.show()"
      ],
      "metadata": {
        "colab": {
          "base_uri": "https://localhost:8080/",
          "height": 295
        },
        "id": "df6sPjAibFhG",
        "outputId": "b98da93d-6827-42cc-8627-83ffb19bf7d9"
      },
      "execution_count": null,
      "outputs": [
        {
          "output_type": "display_data",
          "data": {
            "text/plain": [
              "<Figure size 432x288 with 1 Axes>"
            ],
            "image/png": "[encoded data removed]"
          },
          "metadata": {
            "needs_background": "light"
          }
        }
      ]
    },
    {
      "cell_type": "markdown",
      "source": [
        "4.Cat boost Regressor"
      ],
      "metadata": {
        "id": "rXrkYLqUbvyF"
      }
    },
    {
      "cell_type": "code",
      "source": [
        "pip install catboost"
      ],
      "metadata": {
        "colab": {
          "base_uri": "https://localhost:8080/"
        },
        "id": "leP7gFU7dJm1",
        "outputId": "64fa470e-f0a5-45e3-e435-0f3bae5649f2"
      },
      "execution_count": null,
      "outputs": [
        {
          "output_type": "stream",
          "name": "stdout",
          "text": [
            "Looking in indexes: https://pypi.org/simple, https://us-python.pkg.dev/colab-wheels/public/simple/\n",
            "Requirement already satisfied: catboost in /usr/local/lib/python3.7/dist-packages (1.0.6)\n",
            "Requirement already satisfied: graphviz in /usr/local/lib/python3.7/dist-packages (from catboost) (0.10.1)\n",
            "Requirement already satisfied: matplotlib in /usr/local/lib/python3.7/dist-packages (from catboost) (3.2.2)\n",
            "Requirement already satisfied: six in /usr/local/lib/python3.7/dist-packages (from catboost) (1.15.0)\n",
            "Requirement already satisfied: pandas>=0.24.0 in /usr/local/lib/python3.7/dist-packages (from catboost) (1.3.5)\n",
            "Requirement already satisfied: numpy>=1.16.0 in /usr/local/lib/python3.7/dist-packages (from catboost) (1.21.6)\n",
            "Requirement already satisfied: plotly in /usr/local/lib/python3.7/dist-packages (from catboost) (5.5.0)\n",
            "Requirement already satisfied: scipy in /usr/local/lib/python3.7/dist-packages (from catboost) (1.7.3)\n",
            "Requirement already satisfied: python-dateutil>=2.7.3 in /usr/local/lib/python3.7/dist-packages (from pandas>=0.24.0->catboost) (2.8.2)\n",
            "Requirement already satisfied: pytz>=2017.3 in /usr/local/lib/python3.7/dist-packages (from pandas>=0.24.0->catboost) (2022.2.1)\n",
            "Requirement already satisfied: kiwisolver>=1.0.1 in /usr/local/lib/python3.7/dist-packages (from matplotlib->catboost) (1.4.4)\n",
            "Requirement already satisfied: pyparsing!=2.0.4,!=2.1.2,!=2.1.6,>=2.0.1 in /usr/local/lib/python3.7/dist-packages (from matplotlib->catboost) (3.0.9)\n",
            "Requirement already satisfied: cycler>=0.10 in /usr/local/lib/python3.7/dist-packages (from matplotlib->catboost) (0.11.0)\n",
            "Requirement already satisfied: typing-extensions in /usr/local/lib/python3.7/dist-packages (from kiwisolver>=1.0.1->matplotlib->catboost) (4.1.1)\n",
            "Requirement already satisfied: tenacity>=6.2.0 in /usr/local/lib/python3.7/dist-packages (from plotly->catboost) (8.0.1)\n"
          ]
        }
      ]
    },
    {
      "cell_type": "code",
      "source": [
        "from catboost import CatBoostRegressor"
      ],
      "metadata": {
        "id": "_QxDH9iRbFjp"
      },
      "execution_count": null,
      "outputs": []
    },
    {
      "cell_type": "code",
      "source": [
        "cat_boost=CatBoostRegressor()\n",
        "cat_boost.fit(X_train,Y_train)"
      ],
      "metadata": {
        "colab": {
          "base_uri": "https://localhost:8080/"
        },
        "id": "2AyQrsRHdYyQ",
        "outputId": "a1547013-b206-471d-82db-f59925705790"
      },
      "execution_count": null,
      "outputs": [
        {
          "output_type": "stream",
          "name": "stdout",
          "text": [
            "Learning rate set to 0.033292\n",
            "0:\tlearn: 5.1107185\ttotal: 1.28ms\tremaining: 1.28s\n",
            "1:\tlearn: 5.0064919\ttotal: 1.76ms\tremaining: 878ms\n",
            "2:\tlearn: 4.9162338\ttotal: 2.44ms\tremaining: 809ms\n",
            "3:\tlearn: 4.8107186\ttotal: 3.03ms\tremaining: 756ms\n",
            "4:\tlearn: 4.7208788\ttotal: 3.35ms\tremaining: 667ms\n",
            "5:\tlearn: 4.6343908\ttotal: 3.93ms\tremaining: 651ms\n",
            "6:\tlearn: 4.5565079\ttotal: 4.56ms\tremaining: 647ms\n",
            "7:\tlearn: 4.4783517\ttotal: 5.39ms\tremaining: 669ms\n",
            "8:\tlearn: 4.3896009\ttotal: 5.89ms\tremaining: 648ms\n",
            "9:\tlearn: 4.2999965\ttotal: 6.61ms\tremaining: 654ms\n",
            "10:\tlearn: 4.2189395\ttotal: 7.19ms\tremaining: 646ms\n",
            "11:\tlearn: 4.1361729\ttotal: 7.63ms\tremaining: 628ms\n",
            "12:\tlearn: 4.0603857\ttotal: 8.08ms\tremaining: 614ms\n",
            "13:\tlearn: 3.9838325\ttotal: 8.5ms\tremaining: 599ms\n",
            "14:\tlearn: 3.9115560\ttotal: 9.03ms\tremaining: 593ms\n",
            "15:\tlearn: 3.8463908\ttotal: 9.93ms\tremaining: 611ms\n",
            "16:\tlearn: 3.7790425\ttotal: 10.8ms\tremaining: 627ms\n",
            "17:\tlearn: 3.7176391\ttotal: 11.8ms\tremaining: 641ms\n",
            "18:\tlearn: 3.6607308\ttotal: 12.3ms\tremaining: 637ms\n",
            "19:\tlearn: 3.6014421\ttotal: 13.1ms\tremaining: 640ms\n",
            "20:\tlearn: 3.5404117\ttotal: 14ms\tremaining: 654ms\n",
            "21:\tlearn: 3.4801477\ttotal: 15ms\tremaining: 666ms\n",
            "22:\tlearn: 3.4146726\ttotal: 15.9ms\tremaining: 676ms\n",
            "23:\tlearn: 3.3542598\ttotal: 16.8ms\tremaining: 684ms\n",
            "24:\tlearn: 3.2954015\ttotal: 17.6ms\tremaining: 685ms\n",
            "25:\tlearn: 3.2433220\ttotal: 18.5ms\tremaining: 692ms\n",
            "26:\tlearn: 3.1850107\ttotal: 19.4ms\tremaining: 700ms\n",
            "27:\tlearn: 3.1404245\ttotal: 20.2ms\tremaining: 703ms\n",
            "28:\tlearn: 3.0863575\ttotal: 20.9ms\tremaining: 701ms\n",
            "29:\tlearn: 3.0338355\ttotal: 21.9ms\tremaining: 707ms\n",
            "30:\tlearn: 2.9876370\ttotal: 22.8ms\tremaining: 714ms\n",
            "31:\tlearn: 2.9412457\ttotal: 23.8ms\tremaining: 720ms\n",
            "32:\tlearn: 2.8940457\ttotal: 26.8ms\tremaining: 785ms\n",
            "33:\tlearn: 2.8510029\ttotal: 28ms\tremaining: 796ms\n",
            "34:\tlearn: 2.8059450\ttotal: 29.1ms\tremaining: 803ms\n",
            "35:\tlearn: 2.7671113\ttotal: 31.6ms\tremaining: 846ms\n",
            "36:\tlearn: 2.7266550\ttotal: 32.1ms\tremaining: 837ms\n",
            "37:\tlearn: 2.6912869\ttotal: 33ms\tremaining: 836ms\n",
            "38:\tlearn: 2.6524592\ttotal: 33.6ms\tremaining: 829ms\n",
            "39:\tlearn: 2.6145809\ttotal: 34.5ms\tremaining: 829ms\n",
            "40:\tlearn: 2.5749470\ttotal: 35.4ms\tremaining: 828ms\n",
            "41:\tlearn: 2.5357659\ttotal: 36.3ms\tremaining: 829ms\n",
            "42:\tlearn: 2.5018329\ttotal: 37.2ms\tremaining: 828ms\n",
            "43:\tlearn: 2.4647597\ttotal: 38ms\tremaining: 827ms\n",
            "44:\tlearn: 2.4267946\ttotal: 38.8ms\tremaining: 823ms\n",
            "45:\tlearn: 2.3928052\ttotal: 39.8ms\tremaining: 825ms\n",
            "46:\tlearn: 2.3590901\ttotal: 40.7ms\tremaining: 826ms\n",
            "47:\tlearn: 2.3272633\ttotal: 41.7ms\tremaining: 827ms\n",
            "48:\tlearn: 2.2963214\ttotal: 42.5ms\tremaining: 825ms\n",
            "49:\tlearn: 2.2874303\ttotal: 43.3ms\tremaining: 823ms\n",
            "50:\tlearn: 2.2571914\ttotal: 44.2ms\tremaining: 823ms\n",
            "51:\tlearn: 2.2281846\ttotal: 45.1ms\tremaining: 821ms\n",
            "52:\tlearn: 2.1966262\ttotal: 46ms\tremaining: 821ms\n",
            "53:\tlearn: 2.1688775\ttotal: 46.9ms\tremaining: 821ms\n",
            "54:\tlearn: 2.1488577\ttotal: 47.6ms\tremaining: 818ms\n",
            "55:\tlearn: 2.1212722\ttotal: 48.5ms\tremaining: 818ms\n",
            "56:\tlearn: 2.1131411\ttotal: 49.4ms\tremaining: 817ms\n",
            "57:\tlearn: 2.0914421\ttotal: 50.3ms\tremaining: 817ms\n",
            "58:\tlearn: 2.0691861\ttotal: 51.2ms\tremaining: 817ms\n",
            "59:\tlearn: 2.0408617\ttotal: 52.2ms\tremaining: 818ms\n",
            "60:\tlearn: 2.0178237\ttotal: 52.8ms\tremaining: 813ms\n",
            "61:\tlearn: 1.9940558\ttotal: 53.7ms\tremaining: 813ms\n",
            "62:\tlearn: 1.9682130\ttotal: 54.7ms\tremaining: 814ms\n",
            "63:\tlearn: 1.9434756\ttotal: 55.7ms\tremaining: 814ms\n",
            "64:\tlearn: 1.9239635\ttotal: 56.6ms\tremaining: 815ms\n",
            "65:\tlearn: 1.9067271\ttotal: 57.6ms\tremaining: 816ms\n",
            "66:\tlearn: 1.8861657\ttotal: 58.6ms\tremaining: 816ms\n",
            "67:\tlearn: 1.8679265\ttotal: 59.6ms\tremaining: 816ms\n",
            "68:\tlearn: 1.8489201\ttotal: 60.5ms\tremaining: 817ms\n",
            "69:\tlearn: 1.8286394\ttotal: 61.5ms\tremaining: 817ms\n",
            "70:\tlearn: 1.8123147\ttotal: 62.3ms\tremaining: 815ms\n",
            "71:\tlearn: 1.8046634\ttotal: 63.2ms\tremaining: 815ms\n",
            "72:\tlearn: 1.7937850\ttotal: 63.8ms\tremaining: 810ms\n",
            "73:\tlearn: 1.7753294\ttotal: 64.7ms\tremaining: 809ms\n",
            "74:\tlearn: 1.7594501\ttotal: 65.5ms\tremaining: 808ms\n",
            "75:\tlearn: 1.7429300\ttotal: 66.5ms\tremaining: 808ms\n",
            "76:\tlearn: 1.7240545\ttotal: 67.4ms\tremaining: 808ms\n",
            "77:\tlearn: 1.7088025\ttotal: 68ms\tremaining: 804ms\n",
            "78:\tlearn: 1.7007496\ttotal: 69ms\tremaining: 804ms\n",
            "79:\tlearn: 1.6828898\ttotal: 69.9ms\tremaining: 803ms\n",
            "80:\tlearn: 1.6709581\ttotal: 70.4ms\tremaining: 799ms\n",
            "81:\tlearn: 1.6581802\ttotal: 71.3ms\tremaining: 798ms\n",
            "82:\tlearn: 1.6456830\ttotal: 72.1ms\tremaining: 796ms\n",
            "83:\tlearn: 1.6296781\ttotal: 73ms\tremaining: 796ms\n",
            "84:\tlearn: 1.6139985\ttotal: 77.9ms\tremaining: 839ms\n",
            "85:\tlearn: 1.6050828\ttotal: 78.5ms\tremaining: 835ms\n",
            "86:\tlearn: 1.5893661\ttotal: 79.5ms\tremaining: 834ms\n",
            "87:\tlearn: 1.5774151\ttotal: 80.4ms\tremaining: 833ms\n",
            "88:\tlearn: 1.5671685\ttotal: 81.1ms\tremaining: 830ms\n",
            "89:\tlearn: 1.5608836\ttotal: 82ms\tremaining: 829ms\n",
            "90:\tlearn: 1.5455630\ttotal: 82.9ms\tremaining: 828ms\n",
            "91:\tlearn: 1.5357137\ttotal: 83.6ms\tremaining: 825ms\n",
            "92:\tlearn: 1.5227298\ttotal: 84.5ms\tremaining: 824ms\n",
            "93:\tlearn: 1.5149755\ttotal: 85.1ms\tremaining: 820ms\n",
            "94:\tlearn: 1.5011064\ttotal: 86ms\tremaining: 819ms\n",
            "95:\tlearn: 1.4959115\ttotal: 86.8ms\tremaining: 817ms\n",
            "96:\tlearn: 1.4859843\ttotal: 87.7ms\tremaining: 816ms\n",
            "97:\tlearn: 1.4762234\ttotal: 88.6ms\tremaining: 815ms\n",
            "98:\tlearn: 1.4612393\ttotal: 89.6ms\tremaining: 815ms\n",
            "99:\tlearn: 1.4461582\ttotal: 90.4ms\tremaining: 814ms\n",
            "100:\tlearn: 1.4344020\ttotal: 91.2ms\tremaining: 812ms\n",
            "101:\tlearn: 1.4190674\ttotal: 92.2ms\tremaining: 811ms\n",
            "102:\tlearn: 1.4083829\ttotal: 93.2ms\tremaining: 812ms\n",
            "103:\tlearn: 1.3939842\ttotal: 94.1ms\tremaining: 811ms\n",
            "104:\tlearn: 1.3808237\ttotal: 95.1ms\tremaining: 810ms\n",
            "105:\tlearn: 1.3661168\ttotal: 96ms\tremaining: 810ms\n",
            "106:\tlearn: 1.3568776\ttotal: 96.7ms\tremaining: 807ms\n",
            "107:\tlearn: 1.3450149\ttotal: 97.5ms\tremaining: 805ms\n",
            "108:\tlearn: 1.3341305\ttotal: 98.4ms\tremaining: 805ms\n",
            "109:\tlearn: 1.3249745\ttotal: 99.1ms\tremaining: 801ms\n",
            "110:\tlearn: 1.3140017\ttotal: 99.9ms\tremaining: 800ms\n",
            "111:\tlearn: 1.2993492\ttotal: 101ms\tremaining: 799ms\n",
            "112:\tlearn: 1.2899512\ttotal: 102ms\tremaining: 800ms\n",
            "113:\tlearn: 1.2789998\ttotal: 103ms\tremaining: 800ms\n",
            "114:\tlearn: 1.2698709\ttotal: 104ms\tremaining: 799ms\n",
            "115:\tlearn: 1.2584523\ttotal: 105ms\tremaining: 798ms\n",
            "116:\tlearn: 1.2518987\ttotal: 106ms\tremaining: 796ms\n",
            "117:\tlearn: 1.2430617\ttotal: 107ms\tremaining: 796ms\n",
            "118:\tlearn: 1.2355653\ttotal: 108ms\tremaining: 796ms\n",
            "119:\tlearn: 1.2263415\ttotal: 108ms\tremaining: 796ms\n",
            "120:\tlearn: 1.2197761\ttotal: 109ms\tremaining: 794ms\n",
            "121:\tlearn: 1.2143859\ttotal: 110ms\tremaining: 790ms\n",
            "122:\tlearn: 1.2084779\ttotal: 111ms\tremaining: 789ms\n",
            "123:\tlearn: 1.1963730\ttotal: 111ms\tremaining: 787ms\n",
            "124:\tlearn: 1.1929704\ttotal: 112ms\tremaining: 784ms\n",
            "125:\tlearn: 1.1810480\ttotal: 113ms\tremaining: 784ms\n",
            "126:\tlearn: 1.1735986\ttotal: 114ms\tremaining: 783ms\n",
            "127:\tlearn: 1.1693351\ttotal: 115ms\tremaining: 781ms\n",
            "128:\tlearn: 1.1647707\ttotal: 115ms\tremaining: 779ms\n",
            "129:\tlearn: 1.1562625\ttotal: 116ms\tremaining: 778ms\n",
            "130:\tlearn: 1.1454149\ttotal: 117ms\tremaining: 777ms\n",
            "131:\tlearn: 1.1356497\ttotal: 118ms\tremaining: 777ms\n",
            "132:\tlearn: 1.1259596\ttotal: 119ms\tremaining: 776ms\n",
            "133:\tlearn: 1.1189937\ttotal: 120ms\tremaining: 775ms\n",
            "134:\tlearn: 1.1104404\ttotal: 121ms\tremaining: 775ms\n",
            "135:\tlearn: 1.1018460\ttotal: 122ms\tremaining: 774ms\n",
            "136:\tlearn: 1.0967065\ttotal: 122ms\tremaining: 771ms\n",
            "137:\tlearn: 1.0919903\ttotal: 123ms\tremaining: 768ms\n",
            "138:\tlearn: 1.0890939\ttotal: 124ms\tremaining: 767ms\n",
            "139:\tlearn: 1.0809678\ttotal: 125ms\tremaining: 766ms\n",
            "140:\tlearn: 1.0763204\ttotal: 126ms\tremaining: 766ms\n",
            "141:\tlearn: 1.0669926\ttotal: 127ms\tremaining: 765ms\n",
            "142:\tlearn: 1.0607830\ttotal: 128ms\tremaining: 764ms\n",
            "143:\tlearn: 1.0547232\ttotal: 128ms\tremaining: 763ms\n",
            "144:\tlearn: 1.0517592\ttotal: 129ms\tremaining: 762ms\n",
            "145:\tlearn: 1.0484182\ttotal: 130ms\tremaining: 761ms\n",
            "146:\tlearn: 1.0410081\ttotal: 131ms\tremaining: 760ms\n",
            "147:\tlearn: 1.0321924\ttotal: 132ms\tremaining: 759ms\n",
            "148:\tlearn: 1.0274137\ttotal: 133ms\tremaining: 758ms\n",
            "149:\tlearn: 1.0215765\ttotal: 134ms\tremaining: 757ms\n",
            "150:\tlearn: 1.0157511\ttotal: 135ms\tremaining: 757ms\n",
            "151:\tlearn: 1.0103053\ttotal: 136ms\tremaining: 759ms\n",
            "152:\tlearn: 1.0030753\ttotal: 137ms\tremaining: 759ms\n",
            "153:\tlearn: 0.9994240\ttotal: 138ms\tremaining: 756ms\n",
            "154:\tlearn: 0.9977572\ttotal: 138ms\tremaining: 754ms\n",
            "155:\tlearn: 0.9955058\ttotal: 139ms\tremaining: 752ms\n",
            "156:\tlearn: 0.9919661\ttotal: 140ms\tremaining: 751ms\n",
            "157:\tlearn: 0.9830338\ttotal: 141ms\tremaining: 750ms\n",
            "158:\tlearn: 0.9783137\ttotal: 142ms\tremaining: 750ms\n",
            "159:\tlearn: 0.9693090\ttotal: 143ms\tremaining: 749ms\n",
            "160:\tlearn: 0.9653727\ttotal: 144ms\tremaining: 748ms\n",
            "161:\tlearn: 0.9631419\ttotal: 145ms\tremaining: 748ms\n",
            "162:\tlearn: 0.9554562\ttotal: 145ms\tremaining: 747ms\n",
            "163:\tlearn: 0.9477437\ttotal: 146ms\tremaining: 746ms\n",
            "164:\tlearn: 0.9447299\ttotal: 147ms\tremaining: 744ms\n",
            "165:\tlearn: 0.9406600\ttotal: 148ms\tremaining: 743ms\n",
            "166:\tlearn: 0.9385747\ttotal: 149ms\tremaining: 743ms\n",
            "167:\tlearn: 0.9357067\ttotal: 149ms\tremaining: 740ms\n",
            "168:\tlearn: 0.9297763\ttotal: 150ms\tremaining: 739ms\n",
            "169:\tlearn: 0.9223327\ttotal: 151ms\tremaining: 738ms\n",
            "170:\tlearn: 0.9148910\ttotal: 152ms\tremaining: 737ms\n",
            "171:\tlearn: 0.9103825\ttotal: 153ms\tremaining: 736ms\n",
            "172:\tlearn: 0.9063697\ttotal: 154ms\tremaining: 735ms\n",
            "173:\tlearn: 0.8988712\ttotal: 155ms\tremaining: 734ms\n",
            "174:\tlearn: 0.8948205\ttotal: 156ms\tremaining: 734ms\n",
            "175:\tlearn: 0.8922383\ttotal: 156ms\tremaining: 731ms\n",
            "176:\tlearn: 0.8902153\ttotal: 158ms\tremaining: 732ms\n",
            "177:\tlearn: 0.8858380\ttotal: 158ms\tremaining: 732ms\n",
            "178:\tlearn: 0.8805140\ttotal: 159ms\tremaining: 731ms\n",
            "179:\tlearn: 0.8781527\ttotal: 160ms\tremaining: 729ms\n",
            "180:\tlearn: 0.8757257\ttotal: 161ms\tremaining: 729ms\n",
            "181:\tlearn: 0.8716128\ttotal: 162ms\tremaining: 728ms\n",
            "182:\tlearn: 0.8694073\ttotal: 163ms\tremaining: 727ms\n",
            "183:\tlearn: 0.8625877\ttotal: 164ms\tremaining: 726ms\n",
            "184:\tlearn: 0.8580450\ttotal: 165ms\tremaining: 725ms\n",
            "185:\tlearn: 0.8512862\ttotal: 166ms\tremaining: 724ms\n",
            "186:\tlearn: 0.8472428\ttotal: 166ms\tremaining: 724ms\n",
            "187:\tlearn: 0.8405595\ttotal: 167ms\tremaining: 723ms\n",
            "188:\tlearn: 0.8380562\ttotal: 174ms\tremaining: 747ms\n",
            "189:\tlearn: 0.8312054\ttotal: 175ms\tremaining: 748ms\n",
            "190:\tlearn: 0.8261358\ttotal: 176ms\tremaining: 747ms\n",
            "191:\tlearn: 0.8211861\ttotal: 177ms\tremaining: 746ms\n",
            "192:\tlearn: 0.8162541\ttotal: 178ms\tremaining: 745ms\n",
            "193:\tlearn: 0.8110989\ttotal: 179ms\tremaining: 744ms\n",
            "194:\tlearn: 0.8078466\ttotal: 180ms\tremaining: 743ms\n",
            "195:\tlearn: 0.8045520\ttotal: 181ms\tremaining: 742ms\n",
            "196:\tlearn: 0.7985784\ttotal: 182ms\tremaining: 741ms\n",
            "197:\tlearn: 0.7973295\ttotal: 182ms\tremaining: 738ms\n",
            "198:\tlearn: 0.7955644\ttotal: 183ms\tremaining: 737ms\n",
            "199:\tlearn: 0.7897147\ttotal: 184ms\tremaining: 736ms\n",
            "200:\tlearn: 0.7847735\ttotal: 185ms\tremaining: 735ms\n",
            "201:\tlearn: 0.7834385\ttotal: 186ms\tremaining: 734ms\n",
            "202:\tlearn: 0.7818855\ttotal: 187ms\tremaining: 733ms\n",
            "203:\tlearn: 0.7771448\ttotal: 188ms\tremaining: 732ms\n",
            "204:\tlearn: 0.7711760\ttotal: 188ms\tremaining: 731ms\n",
            "205:\tlearn: 0.7685552\ttotal: 189ms\tremaining: 730ms\n",
            "206:\tlearn: 0.7635314\ttotal: 190ms\tremaining: 729ms\n",
            "207:\tlearn: 0.7577268\ttotal: 191ms\tremaining: 728ms\n",
            "208:\tlearn: 0.7536651\ttotal: 192ms\tremaining: 727ms\n",
            "209:\tlearn: 0.7518060\ttotal: 193ms\tremaining: 725ms\n",
            "210:\tlearn: 0.7476527\ttotal: 194ms\tremaining: 724ms\n",
            "211:\tlearn: 0.7459168\ttotal: 195ms\tremaining: 723ms\n",
            "212:\tlearn: 0.7446233\ttotal: 195ms\tremaining: 722ms\n",
            "213:\tlearn: 0.7413148\ttotal: 196ms\tremaining: 721ms\n",
            "214:\tlearn: 0.7369321\ttotal: 197ms\tremaining: 720ms\n",
            "215:\tlearn: 0.7356332\ttotal: 198ms\tremaining: 719ms\n",
            "216:\tlearn: 0.7347076\ttotal: 199ms\tremaining: 717ms\n",
            "217:\tlearn: 0.7333196\ttotal: 199ms\tremaining: 715ms\n",
            "218:\tlearn: 0.7292755\ttotal: 200ms\tremaining: 714ms\n",
            "219:\tlearn: 0.7264911\ttotal: 201ms\tremaining: 713ms\n",
            "220:\tlearn: 0.7217951\ttotal: 202ms\tremaining: 712ms\n",
            "221:\tlearn: 0.7204721\ttotal: 203ms\tremaining: 711ms\n",
            "222:\tlearn: 0.7170792\ttotal: 204ms\tremaining: 710ms\n",
            "223:\tlearn: 0.7155618\ttotal: 205ms\tremaining: 709ms\n",
            "224:\tlearn: 0.7122887\ttotal: 206ms\tremaining: 708ms\n",
            "225:\tlearn: 0.7107490\ttotal: 207ms\tremaining: 707ms\n",
            "226:\tlearn: 0.7092676\ttotal: 207ms\tremaining: 706ms\n",
            "227:\tlearn: 0.7065790\ttotal: 208ms\tremaining: 706ms\n",
            "228:\tlearn: 0.7030739\ttotal: 209ms\tremaining: 705ms\n",
            "229:\tlearn: 0.7018359\ttotal: 210ms\tremaining: 704ms\n",
            "230:\tlearn: 0.6984718\ttotal: 211ms\tremaining: 703ms\n",
            "231:\tlearn: 0.6972821\ttotal: 212ms\tremaining: 702ms\n",
            "232:\tlearn: 0.6932680\ttotal: 213ms\tremaining: 701ms\n",
            "233:\tlearn: 0.6887866\ttotal: 214ms\tremaining: 700ms\n",
            "234:\tlearn: 0.6880178\ttotal: 215ms\tremaining: 699ms\n",
            "235:\tlearn: 0.6840043\ttotal: 216ms\tremaining: 698ms\n",
            "236:\tlearn: 0.6805118\ttotal: 217ms\tremaining: 697ms\n",
            "237:\tlearn: 0.6768199\ttotal: 217ms\tremaining: 696ms\n",
            "238:\tlearn: 0.6723709\ttotal: 218ms\tremaining: 695ms\n",
            "239:\tlearn: 0.6703411\ttotal: 219ms\tremaining: 695ms\n",
            "240:\tlearn: 0.6696342\ttotal: 220ms\tremaining: 694ms\n",
            "241:\tlearn: 0.6661964\ttotal: 221ms\tremaining: 693ms\n",
            "242:\tlearn: 0.6632122\ttotal: 222ms\tremaining: 692ms\n",
            "243:\tlearn: 0.6625730\ttotal: 223ms\tremaining: 690ms\n",
            "244:\tlearn: 0.6616060\ttotal: 224ms\tremaining: 689ms\n",
            "245:\tlearn: 0.6582162\ttotal: 224ms\tremaining: 688ms\n",
            "246:\tlearn: 0.6575452\ttotal: 225ms\tremaining: 687ms\n",
            "247:\tlearn: 0.6569340\ttotal: 226ms\tremaining: 686ms\n",
            "248:\tlearn: 0.6562838\ttotal: 227ms\tremaining: 686ms\n",
            "249:\tlearn: 0.6548925\ttotal: 228ms\tremaining: 685ms\n",
            "250:\tlearn: 0.6535586\ttotal: 229ms\tremaining: 684ms\n",
            "251:\tlearn: 0.6527379\ttotal: 230ms\tremaining: 683ms\n",
            "252:\tlearn: 0.6516401\ttotal: 231ms\tremaining: 682ms\n",
            "253:\tlearn: 0.6502523\ttotal: 232ms\tremaining: 681ms\n",
            "254:\tlearn: 0.6489646\ttotal: 233ms\tremaining: 680ms\n",
            "255:\tlearn: 0.6481946\ttotal: 234ms\tremaining: 679ms\n",
            "256:\tlearn: 0.6433207\ttotal: 235ms\tremaining: 678ms\n",
            "257:\tlearn: 0.6386061\ttotal: 235ms\tremaining: 677ms\n",
            "258:\tlearn: 0.6373463\ttotal: 236ms\tremaining: 676ms\n",
            "259:\tlearn: 0.6367228\ttotal: 237ms\tremaining: 675ms\n",
            "260:\tlearn: 0.6341774\ttotal: 238ms\tremaining: 674ms\n",
            "261:\tlearn: 0.6297174\ttotal: 239ms\tremaining: 674ms\n",
            "262:\tlearn: 0.6273597\ttotal: 240ms\tremaining: 673ms\n",
            "263:\tlearn: 0.6265899\ttotal: 241ms\tremaining: 672ms\n",
            "264:\tlearn: 0.6233401\ttotal: 242ms\tremaining: 671ms\n",
            "265:\tlearn: 0.6196463\ttotal: 243ms\tremaining: 670ms\n",
            "266:\tlearn: 0.6155687\ttotal: 244ms\tremaining: 669ms\n",
            "267:\tlearn: 0.6139146\ttotal: 244ms\tremaining: 668ms\n",
            "268:\tlearn: 0.6105757\ttotal: 245ms\tremaining: 667ms\n",
            "269:\tlearn: 0.6075045\ttotal: 246ms\tremaining: 666ms\n",
            "270:\tlearn: 0.6068429\ttotal: 247ms\tremaining: 665ms\n",
            "271:\tlearn: 0.6058544\ttotal: 248ms\tremaining: 664ms\n",
            "272:\tlearn: 0.6041034\ttotal: 249ms\tremaining: 663ms\n",
            "273:\tlearn: 0.6036514\ttotal: 250ms\tremaining: 662ms\n",
            "274:\tlearn: 0.6015999\ttotal: 250ms\tremaining: 660ms\n",
            "275:\tlearn: 0.5993894\ttotal: 251ms\tremaining: 658ms\n",
            "276:\tlearn: 0.5985123\ttotal: 251ms\tremaining: 656ms\n",
            "277:\tlearn: 0.5958124\ttotal: 252ms\tremaining: 655ms\n",
            "278:\tlearn: 0.5952121\ttotal: 253ms\tremaining: 653ms\n",
            "279:\tlearn: 0.5924778\ttotal: 253ms\tremaining: 651ms\n",
            "280:\tlearn: 0.5895578\ttotal: 254ms\tremaining: 650ms\n",
            "281:\tlearn: 0.5891474\ttotal: 255ms\tremaining: 648ms\n",
            "282:\tlearn: 0.5867135\ttotal: 255ms\tremaining: 647ms\n",
            "283:\tlearn: 0.5857162\ttotal: 256ms\tremaining: 647ms\n",
            "284:\tlearn: 0.5829339\ttotal: 257ms\tremaining: 646ms\n",
            "285:\tlearn: 0.5813582\ttotal: 258ms\tremaining: 645ms\n",
            "286:\tlearn: 0.5785529\ttotal: 259ms\tremaining: 645ms\n",
            "287:\tlearn: 0.5775764\ttotal: 260ms\tremaining: 644ms\n",
            "288:\tlearn: 0.5751851\ttotal: 261ms\tremaining: 643ms\n",
            "289:\tlearn: 0.5727874\ttotal: 262ms\tremaining: 642ms\n",
            "290:\tlearn: 0.5718269\ttotal: 263ms\tremaining: 641ms\n",
            "291:\tlearn: 0.5700725\ttotal: 264ms\tremaining: 640ms\n",
            "292:\tlearn: 0.5676233\ttotal: 265ms\tremaining: 640ms\n",
            "293:\tlearn: 0.5649279\ttotal: 266ms\tremaining: 639ms\n",
            "294:\tlearn: 0.5642916\ttotal: 267ms\tremaining: 638ms\n",
            "295:\tlearn: 0.5630246\ttotal: 268ms\tremaining: 637ms\n",
            "296:\tlearn: 0.5600199\ttotal: 269ms\tremaining: 636ms\n",
            "297:\tlearn: 0.5581316\ttotal: 270ms\tremaining: 635ms\n",
            "298:\tlearn: 0.5576895\ttotal: 270ms\tremaining: 634ms\n",
            "299:\tlearn: 0.5571514\ttotal: 271ms\tremaining: 633ms\n",
            "300:\tlearn: 0.5547223\ttotal: 272ms\tremaining: 632ms\n",
            "301:\tlearn: 0.5543897\ttotal: 273ms\tremaining: 632ms\n",
            "302:\tlearn: 0.5529666\ttotal: 274ms\tremaining: 630ms\n",
            "303:\tlearn: 0.5521562\ttotal: 275ms\tremaining: 629ms\n",
            "304:\tlearn: 0.5506790\ttotal: 276ms\tremaining: 628ms\n",
            "305:\tlearn: 0.5503651\ttotal: 277ms\tremaining: 627ms\n",
            "306:\tlearn: 0.5480891\ttotal: 278ms\tremaining: 626ms\n",
            "307:\tlearn: 0.5456017\ttotal: 278ms\tremaining: 626ms\n",
            "308:\tlearn: 0.5434759\ttotal: 279ms\tremaining: 625ms\n",
            "309:\tlearn: 0.5414701\ttotal: 280ms\tremaining: 624ms\n",
            "310:\tlearn: 0.5399870\ttotal: 281ms\tremaining: 623ms\n",
            "311:\tlearn: 0.5380383\ttotal: 282ms\tremaining: 622ms\n",
            "312:\tlearn: 0.5377654\ttotal: 283ms\tremaining: 621ms\n",
            "313:\tlearn: 0.5362962\ttotal: 284ms\tremaining: 620ms\n",
            "314:\tlearn: 0.5342314\ttotal: 285ms\tremaining: 619ms\n",
            "315:\tlearn: 0.5338267\ttotal: 286ms\tremaining: 618ms\n",
            "316:\tlearn: 0.5335636\ttotal: 287ms\tremaining: 617ms\n",
            "317:\tlearn: 0.5323164\ttotal: 287ms\tremaining: 616ms\n",
            "318:\tlearn: 0.5302293\ttotal: 288ms\tremaining: 615ms\n",
            "319:\tlearn: 0.5280184\ttotal: 289ms\tremaining: 615ms\n",
            "320:\tlearn: 0.5267064\ttotal: 290ms\tremaining: 614ms\n",
            "321:\tlearn: 0.5251260\ttotal: 291ms\tremaining: 613ms\n",
            "322:\tlearn: 0.5237019\ttotal: 292ms\tremaining: 612ms\n",
            "323:\tlearn: 0.5230391\ttotal: 293ms\tremaining: 611ms\n",
            "324:\tlearn: 0.5218780\ttotal: 294ms\tremaining: 610ms\n",
            "325:\tlearn: 0.5200362\ttotal: 295ms\tremaining: 609ms\n",
            "326:\tlearn: 0.5184439\ttotal: 296ms\tremaining: 608ms\n",
            "327:\tlearn: 0.5175387\ttotal: 297ms\tremaining: 608ms\n",
            "328:\tlearn: 0.5170963\ttotal: 298ms\tremaining: 607ms\n",
            "329:\tlearn: 0.5154473\ttotal: 298ms\tremaining: 606ms\n",
            "330:\tlearn: 0.5137639\ttotal: 299ms\tremaining: 605ms\n",
            "331:\tlearn: 0.5135448\ttotal: 300ms\tremaining: 604ms\n",
            "332:\tlearn: 0.5130072\ttotal: 301ms\tremaining: 603ms\n",
            "333:\tlearn: 0.5123885\ttotal: 302ms\tremaining: 602ms\n",
            "334:\tlearn: 0.5104324\ttotal: 303ms\tremaining: 601ms\n",
            "335:\tlearn: 0.5092106\ttotal: 304ms\tremaining: 601ms\n",
            "336:\tlearn: 0.5080371\ttotal: 305ms\tremaining: 600ms\n",
            "337:\tlearn: 0.5066719\ttotal: 306ms\tremaining: 599ms\n",
            "338:\tlearn: 0.5063726\ttotal: 307ms\tremaining: 598ms\n",
            "339:\tlearn: 0.5058639\ttotal: 308ms\tremaining: 597ms\n",
            "340:\tlearn: 0.5040586\ttotal: 309ms\tremaining: 596ms\n",
            "341:\tlearn: 0.5038434\ttotal: 310ms\tremaining: 596ms\n",
            "342:\tlearn: 0.5027813\ttotal: 310ms\tremaining: 595ms\n",
            "343:\tlearn: 0.5019326\ttotal: 311ms\tremaining: 594ms\n",
            "344:\tlearn: 0.5004847\ttotal: 312ms\tremaining: 593ms\n",
            "345:\tlearn: 0.4995461\ttotal: 313ms\tremaining: 592ms\n",
            "346:\tlearn: 0.4988906\ttotal: 314ms\tremaining: 591ms\n",
            "347:\tlearn: 0.4986177\ttotal: 315ms\tremaining: 591ms\n",
            "348:\tlearn: 0.4981319\ttotal: 316ms\tremaining: 590ms\n",
            "349:\tlearn: 0.4979658\ttotal: 317ms\tremaining: 589ms\n",
            "350:\tlearn: 0.4977156\ttotal: 318ms\tremaining: 588ms\n",
            "351:\tlearn: 0.4967931\ttotal: 319ms\tremaining: 587ms\n",
            "352:\tlearn: 0.4952956\ttotal: 320ms\tremaining: 586ms\n",
            "353:\tlearn: 0.4942354\ttotal: 321ms\tremaining: 585ms\n",
            "354:\tlearn: 0.4933577\ttotal: 322ms\tremaining: 585ms\n",
            "355:\tlearn: 0.4918766\ttotal: 323ms\tremaining: 584ms\n",
            "356:\tlearn: 0.4914756\ttotal: 323ms\tremaining: 582ms\n",
            "357:\tlearn: 0.4906654\ttotal: 324ms\tremaining: 581ms\n",
            "358:\tlearn: 0.4902565\ttotal: 325ms\tremaining: 580ms\n",
            "359:\tlearn: 0.4901107\ttotal: 326ms\tremaining: 579ms\n",
            "360:\tlearn: 0.4897404\ttotal: 327ms\tremaining: 578ms\n",
            "361:\tlearn: 0.4882391\ttotal: 328ms\tremaining: 578ms\n",
            "362:\tlearn: 0.4870828\ttotal: 329ms\tremaining: 577ms\n",
            "363:\tlearn: 0.4856056\ttotal: 330ms\tremaining: 576ms\n",
            "364:\tlearn: 0.4854225\ttotal: 331ms\tremaining: 575ms\n",
            "365:\tlearn: 0.4846970\ttotal: 332ms\tremaining: 574ms\n",
            "366:\tlearn: 0.4839399\ttotal: 333ms\tremaining: 574ms\n",
            "367:\tlearn: 0.4838091\ttotal: 334ms\tremaining: 573ms\n",
            "368:\tlearn: 0.4830831\ttotal: 334ms\tremaining: 572ms\n",
            "369:\tlearn: 0.4816625\ttotal: 335ms\tremaining: 571ms\n",
            "370:\tlearn: 0.4803263\ttotal: 336ms\tremaining: 570ms\n",
            "371:\tlearn: 0.4799988\ttotal: 337ms\tremaining: 569ms\n",
            "372:\tlearn: 0.4796710\ttotal: 338ms\tremaining: 569ms\n",
            "373:\tlearn: 0.4795392\ttotal: 339ms\tremaining: 568ms\n",
            "374:\tlearn: 0.4782769\ttotal: 340ms\tremaining: 567ms\n",
            "375:\tlearn: 0.4768388\ttotal: 341ms\tremaining: 566ms\n",
            "376:\tlearn: 0.4761915\ttotal: 342ms\tremaining: 565ms\n",
            "377:\tlearn: 0.4749748\ttotal: 343ms\tremaining: 564ms\n",
            "378:\tlearn: 0.4743362\ttotal: 344ms\tremaining: 563ms\n",
            "379:\tlearn: 0.4740668\ttotal: 345ms\tremaining: 562ms\n",
            "380:\tlearn: 0.4737780\ttotal: 346ms\tremaining: 561ms\n",
            "381:\tlearn: 0.4734966\ttotal: 353ms\tremaining: 571ms\n",
            "382:\tlearn: 0.4724424\ttotal: 354ms\tremaining: 571ms\n",
            "383:\tlearn: 0.4721696\ttotal: 355ms\tremaining: 570ms\n",
            "384:\tlearn: 0.4715404\ttotal: 356ms\tremaining: 569ms\n",
            "385:\tlearn: 0.4708618\ttotal: 357ms\tremaining: 568ms\n",
            "386:\tlearn: 0.4698851\ttotal: 358ms\tremaining: 567ms\n",
            "387:\tlearn: 0.4692250\ttotal: 359ms\tremaining: 566ms\n",
            "388:\tlearn: 0.4685781\ttotal: 360ms\tremaining: 565ms\n",
            "389:\tlearn: 0.4675841\ttotal: 361ms\tremaining: 564ms\n",
            "390:\tlearn: 0.4665365\ttotal: 362ms\tremaining: 563ms\n",
            "391:\tlearn: 0.4650151\ttotal: 363ms\tremaining: 562ms\n",
            "392:\tlearn: 0.4647694\ttotal: 364ms\tremaining: 561ms\n",
            "393:\tlearn: 0.4646759\ttotal: 364ms\tremaining: 561ms\n",
            "394:\tlearn: 0.4637764\ttotal: 365ms\tremaining: 560ms\n",
            "395:\tlearn: 0.4628932\ttotal: 366ms\tremaining: 559ms\n",
            "396:\tlearn: 0.4619471\ttotal: 367ms\tremaining: 558ms\n",
            "397:\tlearn: 0.4612460\ttotal: 368ms\tremaining: 557ms\n",
            "398:\tlearn: 0.4600572\ttotal: 369ms\tremaining: 556ms\n",
            "399:\tlearn: 0.4593057\ttotal: 370ms\tremaining: 555ms\n",
            "400:\tlearn: 0.4587363\ttotal: 371ms\tremaining: 554ms\n",
            "401:\tlearn: 0.4581145\ttotal: 372ms\tremaining: 553ms\n",
            "402:\tlearn: 0.4578217\ttotal: 373ms\tremaining: 552ms\n",
            "403:\tlearn: 0.4574597\ttotal: 374ms\tremaining: 551ms\n",
            "404:\tlearn: 0.4565725\ttotal: 374ms\tremaining: 550ms\n",
            "405:\tlearn: 0.4560315\ttotal: 375ms\tremaining: 549ms\n",
            "406:\tlearn: 0.4550638\ttotal: 376ms\tremaining: 548ms\n",
            "407:\tlearn: 0.4544863\ttotal: 377ms\tremaining: 547ms\n",
            "408:\tlearn: 0.4539890\ttotal: 378ms\tremaining: 546ms\n",
            "409:\tlearn: 0.4536256\ttotal: 379ms\tremaining: 545ms\n",
            "410:\tlearn: 0.4530400\ttotal: 380ms\tremaining: 544ms\n",
            "411:\tlearn: 0.4527645\ttotal: 381ms\tremaining: 543ms\n",
            "412:\tlearn: 0.4514139\ttotal: 382ms\tremaining: 543ms\n",
            "413:\tlearn: 0.4505042\ttotal: 383ms\tremaining: 542ms\n",
            "414:\tlearn: 0.4491628\ttotal: 384ms\tremaining: 541ms\n",
            "415:\tlearn: 0.4482763\ttotal: 384ms\tremaining: 540ms\n",
            "416:\tlearn: 0.4477443\ttotal: 385ms\tremaining: 539ms\n",
            "417:\tlearn: 0.4468851\ttotal: 386ms\tremaining: 538ms\n",
            "418:\tlearn: 0.4463313\ttotal: 387ms\tremaining: 537ms\n",
            "419:\tlearn: 0.4450585\ttotal: 388ms\tremaining: 536ms\n",
            "420:\tlearn: 0.4442313\ttotal: 389ms\tremaining: 535ms\n",
            "421:\tlearn: 0.4441651\ttotal: 390ms\tremaining: 534ms\n",
            "422:\tlearn: 0.4434446\ttotal: 391ms\tremaining: 533ms\n",
            "423:\tlearn: 0.4424863\ttotal: 392ms\tremaining: 532ms\n",
            "424:\tlearn: 0.4424226\ttotal: 393ms\tremaining: 531ms\n",
            "425:\tlearn: 0.4415884\ttotal: 394ms\tremaining: 530ms\n",
            "426:\tlearn: 0.4409147\ttotal: 394ms\tremaining: 529ms\n",
            "427:\tlearn: 0.4400800\ttotal: 395ms\tremaining: 528ms\n",
            "428:\tlearn: 0.4389640\ttotal: 396ms\tremaining: 527ms\n",
            "429:\tlearn: 0.4385065\ttotal: 397ms\tremaining: 526ms\n",
            "430:\tlearn: 0.4377717\ttotal: 398ms\tremaining: 526ms\n",
            "431:\tlearn: 0.4370007\ttotal: 399ms\tremaining: 525ms\n",
            "432:\tlearn: 0.4364821\ttotal: 400ms\tremaining: 524ms\n",
            "433:\tlearn: 0.4357372\ttotal: 401ms\tremaining: 523ms\n",
            "434:\tlearn: 0.4355721\ttotal: 402ms\tremaining: 522ms\n",
            "435:\tlearn: 0.4353293\ttotal: 403ms\tremaining: 521ms\n",
            "436:\tlearn: 0.4339788\ttotal: 404ms\tremaining: 520ms\n",
            "437:\tlearn: 0.4332655\ttotal: 404ms\tremaining: 519ms\n",
            "438:\tlearn: 0.4325558\ttotal: 405ms\tremaining: 518ms\n",
            "439:\tlearn: 0.4310154\ttotal: 406ms\tremaining: 517ms\n",
            "440:\tlearn: 0.4306094\ttotal: 407ms\tremaining: 516ms\n",
            "441:\tlearn: 0.4289392\ttotal: 408ms\tremaining: 515ms\n",
            "442:\tlearn: 0.4284750\ttotal: 409ms\tremaining: 514ms\n",
            "443:\tlearn: 0.4282541\ttotal: 410ms\tremaining: 513ms\n",
            "444:\tlearn: 0.4278541\ttotal: 411ms\tremaining: 512ms\n",
            "445:\tlearn: 0.4262560\ttotal: 412ms\tremaining: 511ms\n",
            "446:\tlearn: 0.4252111\ttotal: 413ms\tremaining: 510ms\n",
            "447:\tlearn: 0.4247477\ttotal: 414ms\tremaining: 510ms\n",
            "448:\tlearn: 0.4232910\ttotal: 415ms\tremaining: 509ms\n",
            "449:\tlearn: 0.4215896\ttotal: 416ms\tremaining: 508ms\n",
            "450:\tlearn: 0.4213972\ttotal: 416ms\tremaining: 507ms\n",
            "451:\tlearn: 0.4209670\ttotal: 417ms\tremaining: 506ms\n",
            "452:\tlearn: 0.4203737\ttotal: 418ms\tremaining: 505ms\n",
            "453:\tlearn: 0.4190061\ttotal: 419ms\tremaining: 504ms\n",
            "454:\tlearn: 0.4185701\ttotal: 420ms\tremaining: 503ms\n",
            "455:\tlearn: 0.4183648\ttotal: 421ms\tremaining: 502ms\n",
            "456:\tlearn: 0.4179511\ttotal: 422ms\tremaining: 501ms\n",
            "457:\tlearn: 0.4175559\ttotal: 423ms\tremaining: 501ms\n",
            "458:\tlearn: 0.4168691\ttotal: 424ms\tremaining: 500ms\n",
            "459:\tlearn: 0.4158546\ttotal: 425ms\tremaining: 499ms\n",
            "460:\tlearn: 0.4147308\ttotal: 426ms\tremaining: 498ms\n",
            "461:\tlearn: 0.4143490\ttotal: 427ms\tremaining: 497ms\n",
            "462:\tlearn: 0.4134902\ttotal: 428ms\tremaining: 496ms\n",
            "463:\tlearn: 0.4124842\ttotal: 429ms\tremaining: 495ms\n",
            "464:\tlearn: 0.4115649\ttotal: 429ms\tremaining: 494ms\n",
            "465:\tlearn: 0.4110074\ttotal: 430ms\tremaining: 493ms\n",
            "466:\tlearn: 0.4097159\ttotal: 431ms\tremaining: 492ms\n",
            "467:\tlearn: 0.4095296\ttotal: 432ms\tremaining: 491ms\n",
            "468:\tlearn: 0.4082018\ttotal: 433ms\tremaining: 490ms\n",
            "469:\tlearn: 0.4065539\ttotal: 434ms\tremaining: 490ms\n",
            "470:\tlearn: 0.4060960\ttotal: 435ms\tremaining: 489ms\n",
            "471:\tlearn: 0.4056161\ttotal: 436ms\tremaining: 488ms\n",
            "472:\tlearn: 0.4055734\ttotal: 437ms\tremaining: 487ms\n",
            "473:\tlearn: 0.4043474\ttotal: 438ms\tremaining: 486ms\n",
            "474:\tlearn: 0.4028462\ttotal: 439ms\tremaining: 485ms\n",
            "475:\tlearn: 0.4028064\ttotal: 440ms\tremaining: 484ms\n",
            "476:\tlearn: 0.4022590\ttotal: 441ms\tremaining: 483ms\n",
            "477:\tlearn: 0.4017322\ttotal: 441ms\tremaining: 482ms\n",
            "478:\tlearn: 0.4012302\ttotal: 442ms\tremaining: 481ms\n",
            "479:\tlearn: 0.3996523\ttotal: 444ms\tremaining: 481ms\n",
            "480:\tlearn: 0.3985402\ttotal: 446ms\tremaining: 482ms\n",
            "481:\tlearn: 0.3984788\ttotal: 448ms\tremaining: 481ms\n",
            "482:\tlearn: 0.3969782\ttotal: 449ms\tremaining: 480ms\n",
            "483:\tlearn: 0.3968196\ttotal: 449ms\tremaining: 479ms\n",
            "484:\tlearn: 0.3959555\ttotal: 450ms\tremaining: 478ms\n",
            "485:\tlearn: 0.3959208\ttotal: 451ms\tremaining: 477ms\n",
            "486:\tlearn: 0.3958845\ttotal: 452ms\tremaining: 476ms\n",
            "487:\tlearn: 0.3955293\ttotal: 455ms\tremaining: 477ms\n",
            "488:\tlearn: 0.3946140\ttotal: 456ms\tremaining: 476ms\n",
            "489:\tlearn: 0.3945769\ttotal: 457ms\tremaining: 475ms\n",
            "490:\tlearn: 0.3934431\ttotal: 457ms\tremaining: 474ms\n",
            "491:\tlearn: 0.3921069\ttotal: 458ms\tremaining: 473ms\n",
            "492:\tlearn: 0.3910063\ttotal: 459ms\tremaining: 472ms\n",
            "493:\tlearn: 0.3909738\ttotal: 462ms\tremaining: 473ms\n",
            "494:\tlearn: 0.3896062\ttotal: 463ms\tremaining: 472ms\n",
            "495:\tlearn: 0.3888037\ttotal: 463ms\tremaining: 471ms\n",
            "496:\tlearn: 0.3884529\ttotal: 464ms\tremaining: 470ms\n",
            "497:\tlearn: 0.3876835\ttotal: 465ms\tremaining: 469ms\n",
            "498:\tlearn: 0.3870647\ttotal: 466ms\tremaining: 468ms\n",
            "499:\tlearn: 0.3861887\ttotal: 467ms\tremaining: 467ms\n",
            "500:\tlearn: 0.3852127\ttotal: 468ms\tremaining: 466ms\n",
            "501:\tlearn: 0.3851803\ttotal: 469ms\tremaining: 465ms\n",
            "502:\tlearn: 0.3844556\ttotal: 470ms\tremaining: 464ms\n",
            "503:\tlearn: 0.3835164\ttotal: 471ms\tremaining: 463ms\n",
            "504:\tlearn: 0.3825288\ttotal: 472ms\tremaining: 462ms\n",
            "505:\tlearn: 0.3824975\ttotal: 473ms\tremaining: 461ms\n",
            "506:\tlearn: 0.3822610\ttotal: 474ms\tremaining: 460ms\n",
            "507:\tlearn: 0.3812645\ttotal: 474ms\tremaining: 459ms\n",
            "508:\tlearn: 0.3807730\ttotal: 475ms\tremaining: 459ms\n",
            "509:\tlearn: 0.3802640\ttotal: 476ms\tremaining: 458ms\n",
            "510:\tlearn: 0.3794698\ttotal: 477ms\tremaining: 457ms\n",
            "511:\tlearn: 0.3787823\ttotal: 478ms\tremaining: 456ms\n",
            "512:\tlearn: 0.3783617\ttotal: 479ms\tremaining: 455ms\n",
            "513:\tlearn: 0.3772705\ttotal: 480ms\tremaining: 454ms\n",
            "514:\tlearn: 0.3768344\ttotal: 481ms\tremaining: 453ms\n",
            "515:\tlearn: 0.3765009\ttotal: 483ms\tremaining: 453ms\n",
            "516:\tlearn: 0.3763458\ttotal: 484ms\tremaining: 452ms\n",
            "517:\tlearn: 0.3759247\ttotal: 485ms\tremaining: 451ms\n",
            "518:\tlearn: 0.3757576\ttotal: 486ms\tremaining: 450ms\n",
            "519:\tlearn: 0.3753053\ttotal: 487ms\tremaining: 449ms\n",
            "520:\tlearn: 0.3744179\ttotal: 488ms\tremaining: 448ms\n",
            "521:\tlearn: 0.3743233\ttotal: 489ms\tremaining: 447ms\n",
            "522:\tlearn: 0.3733980\ttotal: 489ms\tremaining: 446ms\n",
            "523:\tlearn: 0.3733706\ttotal: 490ms\tremaining: 445ms\n",
            "524:\tlearn: 0.3723961\ttotal: 491ms\tremaining: 445ms\n",
            "525:\tlearn: 0.3718911\ttotal: 492ms\tremaining: 444ms\n",
            "526:\tlearn: 0.3710492\ttotal: 493ms\tremaining: 443ms\n",
            "527:\tlearn: 0.3702071\ttotal: 494ms\tremaining: 442ms\n",
            "528:\tlearn: 0.3701801\ttotal: 495ms\tremaining: 441ms\n",
            "529:\tlearn: 0.3690402\ttotal: 496ms\tremaining: 440ms\n",
            "530:\tlearn: 0.3684585\ttotal: 497ms\tremaining: 439ms\n",
            "531:\tlearn: 0.3676461\ttotal: 498ms\tremaining: 438ms\n",
            "532:\tlearn: 0.3667972\ttotal: 499ms\tremaining: 437ms\n",
            "533:\tlearn: 0.3667712\ttotal: 499ms\tremaining: 436ms\n",
            "534:\tlearn: 0.3658487\ttotal: 500ms\tremaining: 435ms\n",
            "535:\tlearn: 0.3657244\ttotal: 501ms\tremaining: 434ms\n",
            "536:\tlearn: 0.3655518\ttotal: 503ms\tremaining: 434ms\n",
            "537:\tlearn: 0.3651414\ttotal: 504ms\tremaining: 433ms\n",
            "538:\tlearn: 0.3647280\ttotal: 505ms\tremaining: 432ms\n",
            "539:\tlearn: 0.3638726\ttotal: 506ms\tremaining: 431ms\n",
            "540:\tlearn: 0.3630786\ttotal: 507ms\tremaining: 430ms\n",
            "541:\tlearn: 0.3630540\ttotal: 508ms\tremaining: 429ms\n",
            "542:\tlearn: 0.3627476\ttotal: 509ms\tremaining: 428ms\n",
            "543:\tlearn: 0.3622292\ttotal: 510ms\tremaining: 427ms\n",
            "544:\tlearn: 0.3613601\ttotal: 511ms\tremaining: 426ms\n",
            "545:\tlearn: 0.3608678\ttotal: 512ms\tremaining: 425ms\n",
            "546:\tlearn: 0.3602870\ttotal: 512ms\tremaining: 424ms\n",
            "547:\tlearn: 0.3602617\ttotal: 513ms\tremaining: 423ms\n",
            "548:\tlearn: 0.3592626\ttotal: 514ms\tremaining: 422ms\n",
            "549:\tlearn: 0.3582239\ttotal: 515ms\tremaining: 422ms\n",
            "550:\tlearn: 0.3575283\ttotal: 517ms\tremaining: 421ms\n",
            "551:\tlearn: 0.3565374\ttotal: 518ms\tremaining: 421ms\n",
            "552:\tlearn: 0.3557927\ttotal: 519ms\tremaining: 420ms\n",
            "553:\tlearn: 0.3552890\ttotal: 520ms\tremaining: 419ms\n",
            "554:\tlearn: 0.3546361\ttotal: 521ms\tremaining: 418ms\n",
            "555:\tlearn: 0.3535801\ttotal: 522ms\tremaining: 417ms\n",
            "556:\tlearn: 0.3530456\ttotal: 523ms\tremaining: 416ms\n",
            "557:\tlearn: 0.3528720\ttotal: 523ms\tremaining: 415ms\n",
            "558:\tlearn: 0.3524573\ttotal: 524ms\tremaining: 414ms\n",
            "559:\tlearn: 0.3515761\ttotal: 525ms\tremaining: 413ms\n",
            "560:\tlearn: 0.3508818\ttotal: 526ms\tremaining: 412ms\n",
            "561:\tlearn: 0.3501358\ttotal: 527ms\tremaining: 411ms\n",
            "562:\tlearn: 0.3497098\ttotal: 528ms\tremaining: 410ms\n",
            "563:\tlearn: 0.3493038\ttotal: 529ms\tremaining: 409ms\n",
            "564:\tlearn: 0.3492829\ttotal: 532ms\tremaining: 410ms\n",
            "565:\tlearn: 0.3491265\ttotal: 533ms\tremaining: 409ms\n",
            "566:\tlearn: 0.3483924\ttotal: 536ms\tremaining: 409ms\n",
            "567:\tlearn: 0.3480184\ttotal: 537ms\tremaining: 408ms\n",
            "568:\tlearn: 0.3470575\ttotal: 538ms\tremaining: 408ms\n",
            "569:\tlearn: 0.3463086\ttotal: 539ms\tremaining: 406ms\n",
            "570:\tlearn: 0.3457709\ttotal: 539ms\tremaining: 405ms\n",
            "571:\tlearn: 0.3456381\ttotal: 540ms\tremaining: 404ms\n",
            "572:\tlearn: 0.3449999\ttotal: 541ms\tremaining: 403ms\n",
            "573:\tlearn: 0.3442580\ttotal: 541ms\tremaining: 402ms\n",
            "574:\tlearn: 0.3436672\ttotal: 542ms\tremaining: 401ms\n",
            "575:\tlearn: 0.3432058\ttotal: 543ms\tremaining: 400ms\n",
            "576:\tlearn: 0.3421065\ttotal: 544ms\tremaining: 399ms\n",
            "577:\tlearn: 0.3418399\ttotal: 545ms\tremaining: 398ms\n",
            "578:\tlearn: 0.3417032\ttotal: 546ms\tremaining: 397ms\n",
            "579:\tlearn: 0.3409408\ttotal: 547ms\tremaining: 396ms\n",
            "580:\tlearn: 0.3403908\ttotal: 548ms\tremaining: 395ms\n",
            "581:\tlearn: 0.3400447\ttotal: 548ms\tremaining: 394ms\n",
            "582:\tlearn: 0.3396529\ttotal: 549ms\tremaining: 393ms\n",
            "583:\tlearn: 0.3393277\ttotal: 550ms\tremaining: 392ms\n",
            "584:\tlearn: 0.3387400\ttotal: 551ms\tremaining: 391ms\n",
            "585:\tlearn: 0.3375909\ttotal: 552ms\tremaining: 390ms\n",
            "586:\tlearn: 0.3368116\ttotal: 553ms\tremaining: 389ms\n",
            "587:\tlearn: 0.3364888\ttotal: 554ms\tremaining: 388ms\n",
            "588:\tlearn: 0.3361286\ttotal: 555ms\tremaining: 387ms\n",
            "589:\tlearn: 0.3360036\ttotal: 556ms\tremaining: 386ms\n",
            "590:\tlearn: 0.3353178\ttotal: 557ms\tremaining: 385ms\n",
            "591:\tlearn: 0.3346611\ttotal: 558ms\tremaining: 384ms\n",
            "592:\tlearn: 0.3340934\ttotal: 558ms\tremaining: 383ms\n",
            "593:\tlearn: 0.3337189\ttotal: 559ms\tremaining: 382ms\n",
            "594:\tlearn: 0.3329759\ttotal: 560ms\tremaining: 381ms\n",
            "595:\tlearn: 0.3325583\ttotal: 561ms\tremaining: 380ms\n",
            "596:\tlearn: 0.3319617\ttotal: 562ms\tremaining: 379ms\n",
            "597:\tlearn: 0.3313389\ttotal: 563ms\tremaining: 379ms\n",
            "598:\tlearn: 0.3306363\ttotal: 564ms\tremaining: 378ms\n",
            "599:\tlearn: 0.3297370\ttotal: 565ms\tremaining: 377ms\n",
            "600:\tlearn: 0.3287680\ttotal: 566ms\tremaining: 376ms\n",
            "601:\tlearn: 0.3284448\ttotal: 567ms\tremaining: 375ms\n",
            "602:\tlearn: 0.3276722\ttotal: 568ms\tremaining: 374ms\n",
            "603:\tlearn: 0.3270103\ttotal: 569ms\tremaining: 373ms\n",
            "604:\tlearn: 0.3266586\ttotal: 569ms\tremaining: 372ms\n",
            "605:\tlearn: 0.3262243\ttotal: 570ms\tremaining: 371ms\n",
            "606:\tlearn: 0.3254688\ttotal: 571ms\tremaining: 370ms\n",
            "607:\tlearn: 0.3246431\ttotal: 572ms\tremaining: 369ms\n",
            "608:\tlearn: 0.3239252\ttotal: 574ms\tremaining: 368ms\n",
            "609:\tlearn: 0.3231987\ttotal: 574ms\tremaining: 367ms\n",
            "610:\tlearn: 0.3222779\ttotal: 575ms\tremaining: 366ms\n",
            "611:\tlearn: 0.3216160\ttotal: 576ms\tremaining: 365ms\n",
            "612:\tlearn: 0.3213312\ttotal: 577ms\tremaining: 364ms\n",
            "613:\tlearn: 0.3211915\ttotal: 578ms\tremaining: 363ms\n",
            "614:\tlearn: 0.3210548\ttotal: 579ms\tremaining: 363ms\n",
            "615:\tlearn: 0.3204207\ttotal: 580ms\tremaining: 362ms\n",
            "616:\tlearn: 0.3199469\ttotal: 581ms\tremaining: 361ms\n",
            "617:\tlearn: 0.3194906\ttotal: 582ms\tremaining: 360ms\n",
            "618:\tlearn: 0.3193662\ttotal: 583ms\tremaining: 359ms\n",
            "619:\tlearn: 0.3188573\ttotal: 584ms\tremaining: 358ms\n",
            "620:\tlearn: 0.3180088\ttotal: 585ms\tremaining: 357ms\n",
            "621:\tlearn: 0.3178744\ttotal: 585ms\tremaining: 356ms\n",
            "622:\tlearn: 0.3172677\ttotal: 586ms\tremaining: 355ms\n",
            "623:\tlearn: 0.3169463\ttotal: 587ms\tremaining: 354ms\n",
            "624:\tlearn: 0.3163703\ttotal: 588ms\tremaining: 353ms\n",
            "625:\tlearn: 0.3157893\ttotal: 589ms\tremaining: 352ms\n",
            "626:\tlearn: 0.3152642\ttotal: 591ms\tremaining: 351ms\n",
            "627:\tlearn: 0.3148491\ttotal: 592ms\tremaining: 351ms\n",
            "628:\tlearn: 0.3140994\ttotal: 593ms\tremaining: 350ms\n",
            "629:\tlearn: 0.3138394\ttotal: 594ms\tremaining: 349ms\n",
            "630:\tlearn: 0.3135847\ttotal: 595ms\tremaining: 348ms\n",
            "631:\tlearn: 0.3129508\ttotal: 598ms\tremaining: 348ms\n",
            "632:\tlearn: 0.3122932\ttotal: 599ms\tremaining: 347ms\n",
            "633:\tlearn: 0.3116947\ttotal: 600ms\tremaining: 346ms\n",
            "634:\tlearn: 0.3109887\ttotal: 600ms\tremaining: 345ms\n",
            "635:\tlearn: 0.3104904\ttotal: 601ms\tremaining: 344ms\n",
            "636:\tlearn: 0.3101499\ttotal: 602ms\tremaining: 343ms\n",
            "637:\tlearn: 0.3099201\ttotal: 603ms\tremaining: 342ms\n",
            "638:\tlearn: 0.3095511\ttotal: 604ms\tremaining: 341ms\n",
            "639:\tlearn: 0.3091241\ttotal: 605ms\tremaining: 340ms\n",
            "640:\tlearn: 0.3084434\ttotal: 606ms\tremaining: 339ms\n",
            "641:\tlearn: 0.3081981\ttotal: 607ms\tremaining: 338ms\n",
            "642:\tlearn: 0.3078432\ttotal: 608ms\tremaining: 337ms\n",
            "643:\tlearn: 0.3075882\ttotal: 609ms\tremaining: 336ms\n",
            "644:\tlearn: 0.3071864\ttotal: 609ms\tremaining: 335ms\n",
            "645:\tlearn: 0.3065034\ttotal: 610ms\tremaining: 334ms\n",
            "646:\tlearn: 0.3056979\ttotal: 611ms\tremaining: 333ms\n",
            "647:\tlearn: 0.3050241\ttotal: 612ms\tremaining: 333ms\n",
            "648:\tlearn: 0.3045606\ttotal: 613ms\tremaining: 332ms\n",
            "649:\tlearn: 0.3043020\ttotal: 614ms\tremaining: 331ms\n",
            "650:\tlearn: 0.3036316\ttotal: 615ms\tremaining: 330ms\n",
            "651:\tlearn: 0.3030274\ttotal: 616ms\tremaining: 329ms\n",
            "652:\tlearn: 0.3025252\ttotal: 617ms\tremaining: 328ms\n",
            "653:\tlearn: 0.3019111\ttotal: 618ms\tremaining: 327ms\n",
            "654:\tlearn: 0.3014340\ttotal: 619ms\tremaining: 326ms\n",
            "655:\tlearn: 0.3013610\ttotal: 620ms\tremaining: 325ms\n",
            "656:\tlearn: 0.3007262\ttotal: 621ms\tremaining: 324ms\n",
            "657:\tlearn: 0.3000202\ttotal: 621ms\tremaining: 323ms\n",
            "658:\tlearn: 0.2996940\ttotal: 622ms\tremaining: 322ms\n",
            "659:\tlearn: 0.2995719\ttotal: 623ms\tremaining: 321ms\n",
            "660:\tlearn: 0.2989333\ttotal: 624ms\tremaining: 320ms\n",
            "661:\tlearn: 0.2985785\ttotal: 625ms\tremaining: 319ms\n",
            "662:\tlearn: 0.2979714\ttotal: 626ms\tremaining: 318ms\n",
            "663:\tlearn: 0.2976612\ttotal: 627ms\tremaining: 317ms\n",
            "664:\tlearn: 0.2970914\ttotal: 628ms\tremaining: 316ms\n",
            "665:\tlearn: 0.2965631\ttotal: 629ms\tremaining: 315ms\n",
            "666:\tlearn: 0.2964916\ttotal: 629ms\tremaining: 314ms\n",
            "667:\tlearn: 0.2961581\ttotal: 630ms\tremaining: 313ms\n",
            "668:\tlearn: 0.2955550\ttotal: 631ms\tremaining: 312ms\n",
            "669:\tlearn: 0.2952646\ttotal: 632ms\tremaining: 311ms\n",
            "670:\tlearn: 0.2946976\ttotal: 633ms\tremaining: 311ms\n",
            "671:\tlearn: 0.2941666\ttotal: 634ms\tremaining: 310ms\n",
            "672:\tlearn: 0.2941522\ttotal: 636ms\tremaining: 309ms\n",
            "673:\tlearn: 0.2935679\ttotal: 637ms\tremaining: 308ms\n",
            "674:\tlearn: 0.2929794\ttotal: 638ms\tremaining: 307ms\n",
            "675:\tlearn: 0.2929254\ttotal: 639ms\tremaining: 306ms\n",
            "676:\tlearn: 0.2923412\ttotal: 640ms\tremaining: 305ms\n",
            "677:\tlearn: 0.2916631\ttotal: 641ms\tremaining: 304ms\n",
            "678:\tlearn: 0.2914262\ttotal: 642ms\tremaining: 303ms\n",
            "679:\tlearn: 0.2913973\ttotal: 643ms\tremaining: 302ms\n",
            "680:\tlearn: 0.2907995\ttotal: 644ms\tremaining: 302ms\n",
            "681:\tlearn: 0.2905271\ttotal: 645ms\tremaining: 301ms\n",
            "682:\tlearn: 0.2899524\ttotal: 646ms\tremaining: 300ms\n",
            "683:\tlearn: 0.2898368\ttotal: 646ms\tremaining: 299ms\n",
            "684:\tlearn: 0.2894488\ttotal: 647ms\tremaining: 298ms\n",
            "685:\tlearn: 0.2893734\ttotal: 648ms\tremaining: 297ms\n",
            "686:\tlearn: 0.2892598\ttotal: 649ms\tremaining: 296ms\n",
            "687:\tlearn: 0.2887326\ttotal: 650ms\tremaining: 295ms\n",
            "688:\tlearn: 0.2882829\ttotal: 651ms\tremaining: 294ms\n",
            "689:\tlearn: 0.2879995\ttotal: 652ms\tremaining: 293ms\n",
            "690:\tlearn: 0.2876952\ttotal: 653ms\tremaining: 292ms\n",
            "691:\tlearn: 0.2871690\ttotal: 653ms\tremaining: 291ms\n",
            "692:\tlearn: 0.2868391\ttotal: 654ms\tremaining: 290ms\n",
            "693:\tlearn: 0.2864280\ttotal: 655ms\tremaining: 289ms\n",
            "694:\tlearn: 0.2861644\ttotal: 656ms\tremaining: 288ms\n",
            "695:\tlearn: 0.2855837\ttotal: 657ms\tremaining: 287ms\n",
            "696:\tlearn: 0.2851158\ttotal: 658ms\tremaining: 286ms\n",
            "697:\tlearn: 0.2846812\ttotal: 659ms\tremaining: 285ms\n",
            "698:\tlearn: 0.2839860\ttotal: 660ms\tremaining: 284ms\n",
            "699:\tlearn: 0.2839686\ttotal: 661ms\tremaining: 283ms\n",
            "700:\tlearn: 0.2837295\ttotal: 662ms\tremaining: 282ms\n",
            "701:\tlearn: 0.2832882\ttotal: 663ms\tremaining: 281ms\n",
            "702:\tlearn: 0.2830199\ttotal: 664ms\tremaining: 280ms\n",
            "703:\tlearn: 0.2825377\ttotal: 664ms\tremaining: 279ms\n",
            "704:\tlearn: 0.2819436\ttotal: 665ms\tremaining: 278ms\n",
            "705:\tlearn: 0.2816985\ttotal: 666ms\tremaining: 277ms\n",
            "706:\tlearn: 0.2813613\ttotal: 667ms\tremaining: 276ms\n",
            "707:\tlearn: 0.2810787\ttotal: 668ms\tremaining: 275ms\n",
            "708:\tlearn: 0.2807785\ttotal: 669ms\tremaining: 275ms\n",
            "709:\tlearn: 0.2802948\ttotal: 670ms\tremaining: 274ms\n",
            "710:\tlearn: 0.2799032\ttotal: 674ms\tremaining: 274ms\n",
            "711:\tlearn: 0.2796686\ttotal: 675ms\tremaining: 273ms\n",
            "712:\tlearn: 0.2790701\ttotal: 676ms\tremaining: 272ms\n",
            "713:\tlearn: 0.2789629\ttotal: 677ms\tremaining: 271ms\n",
            "714:\tlearn: 0.2784746\ttotal: 678ms\tremaining: 270ms\n",
            "715:\tlearn: 0.2780807\ttotal: 678ms\tremaining: 269ms\n",
            "716:\tlearn: 0.2779229\ttotal: 679ms\tremaining: 268ms\n",
            "717:\tlearn: 0.2777890\ttotal: 680ms\tremaining: 267ms\n",
            "718:\tlearn: 0.2774913\ttotal: 681ms\tremaining: 266ms\n",
            "719:\tlearn: 0.2771029\ttotal: 682ms\tremaining: 265ms\n",
            "720:\tlearn: 0.2766701\ttotal: 683ms\tremaining: 264ms\n",
            "721:\tlearn: 0.2760723\ttotal: 684ms\tremaining: 263ms\n",
            "722:\tlearn: 0.2755154\ttotal: 685ms\tremaining: 262ms\n",
            "723:\tlearn: 0.2749440\ttotal: 685ms\tremaining: 261ms\n",
            "724:\tlearn: 0.2746141\ttotal: 686ms\tremaining: 260ms\n",
            "725:\tlearn: 0.2743925\ttotal: 687ms\tremaining: 259ms\n",
            "726:\tlearn: 0.2742179\ttotal: 688ms\tremaining: 258ms\n",
            "727:\tlearn: 0.2738093\ttotal: 689ms\tremaining: 257ms\n",
            "728:\tlearn: 0.2735393\ttotal: 690ms\tremaining: 256ms\n",
            "729:\tlearn: 0.2734376\ttotal: 691ms\tremaining: 256ms\n",
            "730:\tlearn: 0.2730825\ttotal: 692ms\tremaining: 255ms\n",
            "731:\tlearn: 0.2725671\ttotal: 693ms\tremaining: 254ms\n",
            "732:\tlearn: 0.2722306\ttotal: 694ms\tremaining: 253ms\n",
            "733:\tlearn: 0.2720169\ttotal: 694ms\tremaining: 252ms\n",
            "734:\tlearn: 0.2716336\ttotal: 695ms\tremaining: 251ms\n",
            "735:\tlearn: 0.2713685\ttotal: 696ms\tremaining: 250ms\n",
            "736:\tlearn: 0.2710405\ttotal: 697ms\tremaining: 249ms\n",
            "737:\tlearn: 0.2705261\ttotal: 698ms\tremaining: 248ms\n",
            "738:\tlearn: 0.2704261\ttotal: 699ms\tremaining: 247ms\n",
            "739:\tlearn: 0.2700802\ttotal: 700ms\tremaining: 246ms\n",
            "740:\tlearn: 0.2696072\ttotal: 701ms\tremaining: 245ms\n",
            "741:\tlearn: 0.2690106\ttotal: 702ms\tremaining: 244ms\n",
            "742:\tlearn: 0.2688143\ttotal: 703ms\tremaining: 243ms\n",
            "743:\tlearn: 0.2684794\ttotal: 712ms\tremaining: 245ms\n",
            "744:\tlearn: 0.2680791\ttotal: 713ms\tremaining: 244ms\n",
            "745:\tlearn: 0.2674348\ttotal: 714ms\tremaining: 243ms\n",
            "746:\tlearn: 0.2671717\ttotal: 715ms\tremaining: 242ms\n",
            "747:\tlearn: 0.2670910\ttotal: 716ms\tremaining: 241ms\n",
            "748:\tlearn: 0.2670758\ttotal: 717ms\tremaining: 240ms\n",
            "749:\tlearn: 0.2670606\ttotal: 718ms\tremaining: 239ms\n",
            "750:\tlearn: 0.2670432\ttotal: 719ms\tremaining: 238ms\n",
            "751:\tlearn: 0.2666961\ttotal: 720ms\tremaining: 237ms\n",
            "752:\tlearn: 0.2664498\ttotal: 721ms\tremaining: 236ms\n",
            "753:\tlearn: 0.2662257\ttotal: 722ms\tremaining: 235ms\n",
            "754:\tlearn: 0.2658719\ttotal: 723ms\tremaining: 234ms\n",
            "755:\tlearn: 0.2655715\ttotal: 724ms\tremaining: 234ms\n",
            "756:\tlearn: 0.2653252\ttotal: 724ms\tremaining: 233ms\n",
            "757:\tlearn: 0.2652527\ttotal: 725ms\tremaining: 232ms\n",
            "758:\tlearn: 0.2647243\ttotal: 726ms\tremaining: 231ms\n",
            "759:\tlearn: 0.2644457\ttotal: 727ms\tremaining: 230ms\n",
            "760:\tlearn: 0.2640752\ttotal: 728ms\tremaining: 229ms\n",
            "761:\tlearn: 0.2634975\ttotal: 729ms\tremaining: 228ms\n",
            "762:\tlearn: 0.2631924\ttotal: 730ms\tremaining: 227ms\n",
            "763:\tlearn: 0.2631040\ttotal: 730ms\tremaining: 226ms\n",
            "764:\tlearn: 0.2627826\ttotal: 731ms\tremaining: 225ms\n",
            "765:\tlearn: 0.2625402\ttotal: 732ms\tremaining: 224ms\n",
            "766:\tlearn: 0.2619861\ttotal: 733ms\tremaining: 223ms\n",
            "767:\tlearn: 0.2615784\ttotal: 734ms\tremaining: 222ms\n",
            "768:\tlearn: 0.2615647\ttotal: 735ms\tremaining: 221ms\n",
            "769:\tlearn: 0.2612465\ttotal: 736ms\tremaining: 220ms\n",
            "770:\tlearn: 0.2611324\ttotal: 737ms\tremaining: 219ms\n",
            "771:\tlearn: 0.2608564\ttotal: 738ms\tremaining: 218ms\n",
            "772:\tlearn: 0.2607709\ttotal: 739ms\tremaining: 217ms\n",
            "773:\tlearn: 0.2602900\ttotal: 739ms\tremaining: 216ms\n",
            "774:\tlearn: 0.2602377\ttotal: 740ms\tremaining: 215ms\n",
            "775:\tlearn: 0.2599175\ttotal: 741ms\tremaining: 214ms\n",
            "776:\tlearn: 0.2594006\ttotal: 742ms\tremaining: 213ms\n",
            "777:\tlearn: 0.2590120\ttotal: 743ms\tremaining: 212ms\n",
            "778:\tlearn: 0.2588433\ttotal: 744ms\tremaining: 211ms\n",
            "779:\tlearn: 0.2587907\ttotal: 745ms\tremaining: 210ms\n",
            "780:\tlearn: 0.2584884\ttotal: 746ms\tremaining: 209ms\n",
            "781:\tlearn: 0.2582659\ttotal: 747ms\tremaining: 208ms\n",
            "782:\tlearn: 0.2581339\ttotal: 748ms\tremaining: 207ms\n",
            "783:\tlearn: 0.2579963\ttotal: 749ms\tremaining: 206ms\n",
            "784:\tlearn: 0.2576696\ttotal: 749ms\tremaining: 205ms\n",
            "785:\tlearn: 0.2574047\ttotal: 750ms\tremaining: 204ms\n",
            "786:\tlearn: 0.2567309\ttotal: 751ms\tremaining: 203ms\n",
            "787:\tlearn: 0.2565414\ttotal: 752ms\tremaining: 202ms\n",
            "788:\tlearn: 0.2563893\ttotal: 753ms\tremaining: 201ms\n",
            "789:\tlearn: 0.2563308\ttotal: 754ms\tremaining: 200ms\n",
            "790:\tlearn: 0.2562773\ttotal: 755ms\tremaining: 199ms\n",
            "791:\tlearn: 0.2558705\ttotal: 756ms\tremaining: 198ms\n",
            "792:\tlearn: 0.2552487\ttotal: 757ms\tremaining: 197ms\n",
            "793:\tlearn: 0.2547178\ttotal: 757ms\tremaining: 197ms\n",
            "794:\tlearn: 0.2543165\ttotal: 758ms\tremaining: 196ms\n",
            "795:\tlearn: 0.2539055\ttotal: 759ms\tremaining: 195ms\n",
            "796:\tlearn: 0.2536914\ttotal: 760ms\tremaining: 194ms\n",
            "797:\tlearn: 0.2532957\ttotal: 761ms\tremaining: 193ms\n",
            "798:\tlearn: 0.2532394\ttotal: 762ms\tremaining: 192ms\n",
            "799:\tlearn: 0.2530620\ttotal: 763ms\tremaining: 191ms\n",
            "800:\tlearn: 0.2527917\ttotal: 764ms\tremaining: 190ms\n",
            "801:\tlearn: 0.2525571\ttotal: 765ms\tremaining: 189ms\n",
            "802:\tlearn: 0.2520698\ttotal: 765ms\tremaining: 188ms\n",
            "803:\tlearn: 0.2520442\ttotal: 766ms\tremaining: 187ms\n",
            "804:\tlearn: 0.2520180\ttotal: 767ms\tremaining: 186ms\n",
            "805:\tlearn: 0.2515079\ttotal: 768ms\tremaining: 185ms\n",
            "806:\tlearn: 0.2512902\ttotal: 769ms\tremaining: 184ms\n",
            "807:\tlearn: 0.2512318\ttotal: 770ms\tremaining: 183ms\n",
            "808:\tlearn: 0.2508016\ttotal: 771ms\tremaining: 182ms\n",
            "809:\tlearn: 0.2504674\ttotal: 772ms\tremaining: 181ms\n",
            "810:\tlearn: 0.2502414\ttotal: 773ms\tremaining: 180ms\n",
            "811:\tlearn: 0.2502300\ttotal: 773ms\tremaining: 179ms\n",
            "812:\tlearn: 0.2500964\ttotal: 774ms\tremaining: 178ms\n",
            "813:\tlearn: 0.2498677\ttotal: 775ms\tremaining: 177ms\n",
            "814:\tlearn: 0.2496631\ttotal: 776ms\tremaining: 176ms\n",
            "815:\tlearn: 0.2494188\ttotal: 778ms\tremaining: 175ms\n",
            "816:\tlearn: 0.2492570\ttotal: 779ms\tremaining: 174ms\n",
            "817:\tlearn: 0.2489531\ttotal: 780ms\tremaining: 174ms\n",
            "818:\tlearn: 0.2488762\ttotal: 781ms\tremaining: 173ms\n",
            "819:\tlearn: 0.2484204\ttotal: 782ms\tremaining: 172ms\n",
            "820:\tlearn: 0.2480737\ttotal: 783ms\tremaining: 171ms\n",
            "821:\tlearn: 0.2478189\ttotal: 784ms\tremaining: 170ms\n",
            "822:\tlearn: 0.2476119\ttotal: 784ms\tremaining: 169ms\n",
            "823:\tlearn: 0.2473794\ttotal: 785ms\tremaining: 168ms\n",
            "824:\tlearn: 0.2472378\ttotal: 786ms\tremaining: 167ms\n",
            "825:\tlearn: 0.2472252\ttotal: 787ms\tremaining: 166ms\n",
            "826:\tlearn: 0.2468792\ttotal: 788ms\tremaining: 165ms\n",
            "827:\tlearn: 0.2464706\ttotal: 789ms\tremaining: 164ms\n",
            "828:\tlearn: 0.2464198\ttotal: 790ms\tremaining: 163ms\n",
            "829:\tlearn: 0.2461538\ttotal: 791ms\tremaining: 162ms\n",
            "830:\tlearn: 0.2458472\ttotal: 792ms\tremaining: 161ms\n",
            "831:\tlearn: 0.2458333\ttotal: 793ms\tremaining: 160ms\n",
            "832:\tlearn: 0.2455507\ttotal: 794ms\tremaining: 159ms\n",
            "833:\tlearn: 0.2452967\ttotal: 795ms\tremaining: 158ms\n",
            "834:\tlearn: 0.2452719\ttotal: 796ms\tremaining: 157ms\n",
            "835:\tlearn: 0.2452264\ttotal: 796ms\tremaining: 156ms\n",
            "836:\tlearn: 0.2448634\ttotal: 797ms\tremaining: 155ms\n",
            "837:\tlearn: 0.2448535\ttotal: 798ms\tremaining: 154ms\n",
            "838:\tlearn: 0.2446142\ttotal: 800ms\tremaining: 153ms\n",
            "839:\tlearn: 0.2443111\ttotal: 801ms\tremaining: 152ms\n",
            "840:\tlearn: 0.2442623\ttotal: 801ms\tremaining: 152ms\n",
            "841:\tlearn: 0.2440598\ttotal: 802ms\tremaining: 151ms\n",
            "842:\tlearn: 0.2437449\ttotal: 803ms\tremaining: 150ms\n",
            "843:\tlearn: 0.2431540\ttotal: 804ms\tremaining: 149ms\n",
            "844:\tlearn: 0.2429824\ttotal: 805ms\tremaining: 148ms\n",
            "845:\tlearn: 0.2427271\ttotal: 806ms\tremaining: 147ms\n",
            "846:\tlearn: 0.2426626\ttotal: 808ms\tremaining: 146ms\n",
            "847:\tlearn: 0.2424113\ttotal: 809ms\tremaining: 145ms\n",
            "848:\tlearn: 0.2419277\ttotal: 809ms\tremaining: 144ms\n",
            "849:\tlearn: 0.2416390\ttotal: 810ms\tremaining: 143ms\n",
            "850:\tlearn: 0.2413106\ttotal: 811ms\tremaining: 142ms\n",
            "851:\tlearn: 0.2409664\ttotal: 812ms\tremaining: 141ms\n",
            "852:\tlearn: 0.2409196\ttotal: 813ms\tremaining: 140ms\n",
            "853:\tlearn: 0.2404339\ttotal: 814ms\tremaining: 139ms\n",
            "854:\tlearn: 0.2403472\ttotal: 815ms\tremaining: 138ms\n",
            "855:\tlearn: 0.2402396\ttotal: 816ms\tremaining: 137ms\n",
            "856:\tlearn: 0.2399659\ttotal: 817ms\tremaining: 136ms\n",
            "857:\tlearn: 0.2395062\ttotal: 818ms\tremaining: 135ms\n",
            "858:\tlearn: 0.2394095\ttotal: 819ms\tremaining: 134ms\n",
            "859:\tlearn: 0.2391783\ttotal: 820ms\tremaining: 133ms\n",
            "860:\tlearn: 0.2390222\ttotal: 821ms\tremaining: 132ms\n",
            "861:\tlearn: 0.2388123\ttotal: 821ms\tremaining: 132ms\n",
            "862:\tlearn: 0.2386836\ttotal: 823ms\tremaining: 131ms\n",
            "863:\tlearn: 0.2383019\ttotal: 824ms\tremaining: 130ms\n",
            "864:\tlearn: 0.2381074\ttotal: 824ms\tremaining: 129ms\n",
            "865:\tlearn: 0.2378293\ttotal: 825ms\tremaining: 128ms\n",
            "866:\tlearn: 0.2377534\ttotal: 826ms\tremaining: 127ms\n",
            "867:\tlearn: 0.2375683\ttotal: 827ms\tremaining: 126ms\n",
            "868:\tlearn: 0.2375043\ttotal: 828ms\tremaining: 125ms\n",
            "869:\tlearn: 0.2373239\ttotal: 829ms\tremaining: 124ms\n",
            "870:\tlearn: 0.2371796\ttotal: 830ms\tremaining: 123ms\n",
            "871:\tlearn: 0.2370379\ttotal: 831ms\tremaining: 122ms\n",
            "872:\tlearn: 0.2370260\ttotal: 832ms\tremaining: 121ms\n",
            "873:\tlearn: 0.2366063\ttotal: 833ms\tremaining: 120ms\n",
            "874:\tlearn: 0.2365447\ttotal: 834ms\tremaining: 119ms\n",
            "875:\tlearn: 0.2362249\ttotal: 835ms\tremaining: 118ms\n",
            "876:\tlearn: 0.2362161\ttotal: 836ms\tremaining: 117ms\n",
            "877:\tlearn: 0.2358749\ttotal: 837ms\tremaining: 116ms\n",
            "878:\tlearn: 0.2354453\ttotal: 838ms\tremaining: 115ms\n",
            "879:\tlearn: 0.2351301\ttotal: 839ms\tremaining: 114ms\n",
            "880:\tlearn: 0.2349769\ttotal: 840ms\tremaining: 113ms\n",
            "881:\tlearn: 0.2346538\ttotal: 840ms\tremaining: 112ms\n",
            "882:\tlearn: 0.2345900\ttotal: 841ms\tremaining: 111ms\n",
            "883:\tlearn: 0.2341964\ttotal: 842ms\tremaining: 111ms\n",
            "884:\tlearn: 0.2341670\ttotal: 843ms\tremaining: 110ms\n",
            "885:\tlearn: 0.2339195\ttotal: 844ms\tremaining: 109ms\n",
            "886:\tlearn: 0.2336817\ttotal: 845ms\tremaining: 108ms\n",
            "887:\tlearn: 0.2333727\ttotal: 846ms\tremaining: 107ms\n",
            "888:\tlearn: 0.2333618\ttotal: 847ms\tremaining: 106ms\n",
            "889:\tlearn: 0.2329166\ttotal: 848ms\tremaining: 105ms\n",
            "890:\tlearn: 0.2326055\ttotal: 849ms\tremaining: 104ms\n",
            "891:\tlearn: 0.2325959\ttotal: 850ms\tremaining: 103ms\n",
            "892:\tlearn: 0.2324364\ttotal: 851ms\tremaining: 102ms\n",
            "893:\tlearn: 0.2324158\ttotal: 852ms\tremaining: 101ms\n",
            "894:\tlearn: 0.2320098\ttotal: 853ms\tremaining: 100ms\n",
            "895:\tlearn: 0.2317011\ttotal: 878ms\tremaining: 102ms\n",
            "896:\tlearn: 0.2315338\ttotal: 879ms\tremaining: 101ms\n",
            "897:\tlearn: 0.2309739\ttotal: 880ms\tremaining: 100ms\n",
            "898:\tlearn: 0.2309357\ttotal: 886ms\tremaining: 99.5ms\n",
            "899:\tlearn: 0.2306945\ttotal: 887ms\tremaining: 98.5ms\n",
            "900:\tlearn: 0.2304341\ttotal: 889ms\tremaining: 97.7ms\n",
            "901:\tlearn: 0.2302021\ttotal: 890ms\tremaining: 96.7ms\n",
            "902:\tlearn: 0.2298621\ttotal: 898ms\tremaining: 96.5ms\n",
            "903:\tlearn: 0.2294710\ttotal: 899ms\tremaining: 95.5ms\n",
            "904:\tlearn: 0.2292010\ttotal: 900ms\tremaining: 94.4ms\n",
            "905:\tlearn: 0.2288171\ttotal: 902ms\tremaining: 93.6ms\n",
            "906:\tlearn: 0.2287495\ttotal: 903ms\tremaining: 92.6ms\n",
            "907:\tlearn: 0.2286045\ttotal: 905ms\tremaining: 91.7ms\n",
            "908:\tlearn: 0.2284413\ttotal: 909ms\tremaining: 91ms\n",
            "909:\tlearn: 0.2283654\ttotal: 910ms\tremaining: 90ms\n",
            "910:\tlearn: 0.2280711\ttotal: 916ms\tremaining: 89.5ms\n",
            "911:\tlearn: 0.2278515\ttotal: 924ms\tremaining: 89.1ms\n",
            "912:\tlearn: 0.2273830\ttotal: 925ms\tremaining: 88.1ms\n",
            "913:\tlearn: 0.2273099\ttotal: 932ms\tremaining: 87.7ms\n",
            "914:\tlearn: 0.2270247\ttotal: 934ms\tremaining: 86.8ms\n",
            "915:\tlearn: 0.2267181\ttotal: 935ms\tremaining: 85.8ms\n",
            "916:\tlearn: 0.2265205\ttotal: 936ms\tremaining: 84.7ms\n",
            "917:\tlearn: 0.2262077\ttotal: 943ms\tremaining: 84.2ms\n",
            "918:\tlearn: 0.2261987\ttotal: 943ms\tremaining: 83.1ms\n",
            "919:\tlearn: 0.2261064\ttotal: 948ms\tremaining: 82.5ms\n",
            "920:\tlearn: 0.2258040\ttotal: 953ms\tremaining: 81.7ms\n",
            "921:\tlearn: 0.2256366\ttotal: 955ms\tremaining: 80.8ms\n",
            "922:\tlearn: 0.2253550\ttotal: 958ms\tremaining: 79.9ms\n",
            "923:\tlearn: 0.2253168\ttotal: 959ms\tremaining: 78.9ms\n",
            "924:\tlearn: 0.2251788\ttotal: 963ms\tremaining: 78.1ms\n",
            "925:\tlearn: 0.2248220\ttotal: 968ms\tremaining: 77.3ms\n",
            "926:\tlearn: 0.2246620\ttotal: 970ms\tremaining: 76.4ms\n",
            "927:\tlearn: 0.2243793\ttotal: 971ms\tremaining: 75.3ms\n",
            "928:\tlearn: 0.2242128\ttotal: 976ms\tremaining: 74.6ms\n",
            "929:\tlearn: 0.2238717\ttotal: 977ms\tremaining: 73.5ms\n",
            "930:\tlearn: 0.2234380\ttotal: 978ms\tremaining: 72.5ms\n",
            "931:\tlearn: 0.2234296\ttotal: 979ms\tremaining: 71.4ms\n",
            "932:\tlearn: 0.2231301\ttotal: 980ms\tremaining: 70.4ms\n",
            "933:\tlearn: 0.2230202\ttotal: 981ms\tremaining: 69.3ms\n",
            "934:\tlearn: 0.2226930\ttotal: 982ms\tremaining: 68.3ms\n",
            "935:\tlearn: 0.2223482\ttotal: 983ms\tremaining: 67.2ms\n",
            "936:\tlearn: 0.2222831\ttotal: 984ms\tremaining: 66.2ms\n",
            "937:\tlearn: 0.2222473\ttotal: 985ms\tremaining: 65.1ms\n",
            "938:\tlearn: 0.2217941\ttotal: 987ms\tremaining: 64.1ms\n",
            "939:\tlearn: 0.2215225\ttotal: 989ms\tremaining: 63.1ms\n",
            "940:\tlearn: 0.2213055\ttotal: 990ms\tremaining: 62.1ms\n",
            "941:\tlearn: 0.2209513\ttotal: 992ms\tremaining: 61.1ms\n",
            "942:\tlearn: 0.2206534\ttotal: 995ms\tremaining: 60.1ms\n",
            "943:\tlearn: 0.2203195\ttotal: 997ms\tremaining: 59.1ms\n",
            "944:\tlearn: 0.2199083\ttotal: 999ms\tremaining: 58.1ms\n",
            "945:\tlearn: 0.2197483\ttotal: 1s\tremaining: 57.1ms\n",
            "946:\tlearn: 0.2195469\ttotal: 1s\tremaining: 56.1ms\n",
            "947:\tlearn: 0.2193908\ttotal: 1s\tremaining: 55.1ms\n",
            "948:\tlearn: 0.2193287\ttotal: 1.01s\tremaining: 54.1ms\n",
            "949:\tlearn: 0.2190780\ttotal: 1.01s\tremaining: 53.1ms\n",
            "950:\tlearn: 0.2185870\ttotal: 1.01s\tremaining: 52.1ms\n",
            "951:\tlearn: 0.2183098\ttotal: 1.01s\tremaining: 51.1ms\n",
            "952:\tlearn: 0.2182428\ttotal: 1.02s\tremaining: 50.1ms\n",
            "953:\tlearn: 0.2181096\ttotal: 1.02s\tremaining: 49.1ms\n",
            "954:\tlearn: 0.2177605\ttotal: 1.02s\tremaining: 48.1ms\n",
            "955:\tlearn: 0.2177216\ttotal: 1.02s\tremaining: 47.1ms\n",
            "956:\tlearn: 0.2174252\ttotal: 1.02s\tremaining: 46.1ms\n",
            "957:\tlearn: 0.2171767\ttotal: 1.03s\tremaining: 45ms\n",
            "958:\tlearn: 0.2170469\ttotal: 1.03s\tremaining: 44ms\n",
            "959:\tlearn: 0.2167968\ttotal: 1.03s\tremaining: 43ms\n",
            "960:\tlearn: 0.2165240\ttotal: 1.03s\tremaining: 42ms\n",
            "961:\tlearn: 0.2161606\ttotal: 1.04s\tremaining: 41ms\n",
            "962:\tlearn: 0.2161535\ttotal: 1.04s\tremaining: 39.9ms\n",
            "963:\tlearn: 0.2161452\ttotal: 1.04s\tremaining: 38.9ms\n",
            "964:\tlearn: 0.2160136\ttotal: 1.04s\tremaining: 37.8ms\n",
            "965:\tlearn: 0.2159847\ttotal: 1.04s\tremaining: 36.8ms\n",
            "966:\tlearn: 0.2157810\ttotal: 1.05s\tremaining: 35.7ms\n",
            "967:\tlearn: 0.2155361\ttotal: 1.05s\tremaining: 34.7ms\n",
            "968:\tlearn: 0.2151206\ttotal: 1.05s\tremaining: 33.6ms\n",
            "969:\tlearn: 0.2150187\ttotal: 1.05s\tremaining: 32.6ms\n",
            "970:\tlearn: 0.2149235\ttotal: 1.05s\tremaining: 31.5ms\n",
            "971:\tlearn: 0.2148620\ttotal: 1.06s\tremaining: 30.4ms\n",
            "972:\tlearn: 0.2147969\ttotal: 1.06s\tremaining: 29.3ms\n",
            "973:\tlearn: 0.2145101\ttotal: 1.06s\tremaining: 28.2ms\n",
            "974:\tlearn: 0.2142455\ttotal: 1.06s\tremaining: 27.1ms\n",
            "975:\tlearn: 0.2142236\ttotal: 1.06s\tremaining: 26ms\n",
            "976:\tlearn: 0.2139846\ttotal: 1.06s\tremaining: 25ms\n",
            "977:\tlearn: 0.2139321\ttotal: 1.06s\tremaining: 23.9ms\n",
            "978:\tlearn: 0.2137492\ttotal: 1.06s\tremaining: 22.8ms\n",
            "979:\tlearn: 0.2134214\ttotal: 1.06s\tremaining: 21.7ms\n",
            "980:\tlearn: 0.2132304\ttotal: 1.06s\tremaining: 20.6ms\n",
            "981:\tlearn: 0.2130422\ttotal: 1.06s\tremaining: 19.5ms\n",
            "982:\tlearn: 0.2126497\ttotal: 1.06s\tremaining: 18.4ms\n",
            "983:\tlearn: 0.2125708\ttotal: 1.07s\tremaining: 17.3ms\n",
            "984:\tlearn: 0.2121325\ttotal: 1.07s\tremaining: 16.2ms\n",
            "985:\tlearn: 0.2120714\ttotal: 1.07s\tremaining: 15.2ms\n",
            "986:\tlearn: 0.2119957\ttotal: 1.07s\tremaining: 14.1ms\n",
            "987:\tlearn: 0.2117634\ttotal: 1.07s\tremaining: 13ms\n",
            "988:\tlearn: 0.2115817\ttotal: 1.07s\tremaining: 11.9ms\n",
            "989:\tlearn: 0.2113726\ttotal: 1.07s\tremaining: 10.8ms\n",
            "990:\tlearn: 0.2112974\ttotal: 1.07s\tremaining: 9.72ms\n",
            "991:\tlearn: 0.2109022\ttotal: 1.07s\tremaining: 8.63ms\n",
            "992:\tlearn: 0.2106613\ttotal: 1.07s\tremaining: 7.55ms\n",
            "993:\tlearn: 0.2104197\ttotal: 1.07s\tremaining: 6.47ms\n",
            "994:\tlearn: 0.2101470\ttotal: 1.07s\tremaining: 5.39ms\n",
            "995:\tlearn: 0.2100107\ttotal: 1.07s\tremaining: 4.31ms\n",
            "996:\tlearn: 0.2098858\ttotal: 1.07s\tremaining: 3.23ms\n",
            "997:\tlearn: 0.2097378\ttotal: 1.07s\tremaining: 2.15ms\n",
            "998:\tlearn: 0.2095244\ttotal: 1.07s\tremaining: 1.08ms\n",
            "999:\tlearn: 0.2094056\ttotal: 1.08s\tremaining: 0us\n"
          ]
        },
        {
          "output_type": "execute_result",
          "data": {
            "text/plain": [
              "<catboost.core.CatBoostRegressor at 0x7f9d8d9ab410>"
            ]
          },
          "metadata": {},
          "execution_count": 159
        }
      ]
    },
    {
      "cell_type": "code",
      "source": [
        "training_data_prediction4=cat_boost.predict(X_train)"
      ],
      "metadata": {
        "id": "XJuxWA3LdY0-"
      },
      "execution_count": null,
      "outputs": []
    },
    {
      "cell_type": "code",
      "source": [
        "error_score = metrics.r2_score(Y_train, training_data_prediction4)\n",
        "mean_error = mean_absolute_error(Y_train, training_data_prediction4)\n",
        "print(\"R squared Error : \", error_score)\n",
        "print(\"mean absolute error :\", mean_error)"
      ],
      "metadata": {
        "colab": {
          "base_uri": "https://localhost:8080/"
        },
        "id": "_qXLpR15dY3M",
        "outputId": "02f21b8b-0bb9-43ae-a275-5b981275b5e3"
      },
      "execution_count": null,
      "outputs": [
        {
          "output_type": "stream",
          "name": "stdout",
          "text": [
            "R squared Error :  0.9983846453957772\n",
            "mean absolute error : 0.15758893725001027\n"
          ]
        }
      ]
    },
    {
      "cell_type": "code",
      "source": [
        "plt.scatter(Y_train, training_data_prediction4)\n",
        "plt.xlabel(\"Actual Price\")\n",
        "plt.ylabel(\"Predicted Price\")\n",
        "plt.title(\" Actual Prices vs Predicted Prices\")\n",
        "plt.show()"
      ],
      "metadata": {
        "colab": {
          "base_uri": "https://localhost:8080/",
          "height": 295
        },
        "id": "zZOXwG1TdY5u",
        "outputId": "69247055-2259-4661-c76d-3863a6a4e6d3"
      },
      "execution_count": null,
      "outputs": [
        {
          "output_type": "display_data",
          "data": {
            "text/plain": [
              "<Figure size 432x288 with 1 Axes>"
            ],
            "image/png": "[encoded data removed]"
          },
          "metadata": {
            "needs_background": "light"
          }
        }
      ]
    },
    {
      "cell_type": "code",
      "source": [
        "test_data_prediction4 = cat_boost.predict(X_test)"
      ],
      "metadata": {
        "id": "Q4EgeKwWdY8M"
      },
      "execution_count": null,
      "outputs": []
    },
    {
      "cell_type": "code",
      "source": [
        "error_score = metrics.r2_score(Y_test, test_data_prediction4)\n",
        "print(\"R squared Error : \", error_score)"
      ],
      "metadata": {
        "colab": {
          "base_uri": "https://localhost:8080/"
        },
        "id": "i7DAfJVydY-q",
        "outputId": "548418f0-b63f-4307-f263-0afe4f52ae96"
      },
      "execution_count": null,
      "outputs": [
        {
          "output_type": "stream",
          "name": "stdout",
          "text": [
            "R squared Error :  0.982870357530639\n"
          ]
        }
      ]
    },
    {
      "cell_type": "code",
      "source": [
        "plt.scatter(Y_test, test_data_prediction4)\n",
        "plt.xlabel(\"Actual Price\")\n",
        "plt.ylabel(\"Predicted Price\")\n",
        "plt.title(\" Actual Prices vs Predicted Prices\")\n",
        "plt.show()"
      ],
      "metadata": {
        "colab": {
          "base_uri": "https://localhost:8080/",
          "height": 295
        },
        "id": "IH8_xImdeFKU",
        "outputId": "6dcec829-d605-4b53-ecf0-de2b712610da"
      },
      "execution_count": null,
      "outputs": [
        {
          "output_type": "display_data",
          "data": {
            "text/plain": [
              "<Figure size 432x288 with 1 Axes>"
            ],
            "image/png": "[encoded data removed]"
          },
          "metadata": {
            "needs_background": "light"
          }
        }
      ]
    },
    {
      "cell_type": "code",
      "source": [
        ""
      ],
      "metadata": {
        "id": "fzpdMkoneFM_"
      },
      "execution_count": null,
      "outputs": []
    },
    {
      "cell_type": "code",
      "source": [
        ""
      ],
      "metadata": {
        "id": "2BzdH2JieFRZ"
      },
      "execution_count": null,
      "outputs": []
    }
  ]
}